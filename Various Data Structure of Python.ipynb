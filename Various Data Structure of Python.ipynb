{
 "cells": [
  {
   "cell_type": "code",
   "execution_count": 1,
   "id": "a5a6a5b9",
   "metadata": {},
   "outputs": [
    {
     "name": "stdout",
     "output_type": "stream",
     "text": [
      "time.struct_time(tm_year=2022, tm_mon=10, tm_mday=6, tm_hour=19, tm_min=24, tm_sec=17, tm_wday=3, tm_yday=279, tm_isdst=0)\n"
     ]
    }
   ],
   "source": [
    "import time\n",
    "print(time.localtime())"
   ]
  },
  {
   "cell_type": "code",
   "execution_count": 1,
   "id": "21a41e0c",
   "metadata": {},
   "outputs": [
    {
     "name": "stdout",
     "output_type": "stream",
     "text": [
      "time.struct_time(tm_year=2023, tm_mon=2, tm_mday=7, tm_hour=13, tm_min=15, tm_sec=33, tm_wday=1, tm_yday=38, tm_isdst=0)\n"
     ]
    }
   ],
   "source": [
    "import time\n",
    "print(time.localtime())"
   ]
  },
  {
   "cell_type": "code",
   "execution_count": 2,
   "id": "1d9033b2",
   "metadata": {},
   "outputs": [
    {
     "data": {
      "text/plain": [
       "time.struct_time(tm_year=2023, tm_mon=2, tm_mday=7, tm_hour=13, tm_min=16, tm_sec=20, tm_wday=1, tm_yday=38, tm_isdst=0)"
      ]
     },
     "execution_count": 2,
     "metadata": {},
     "output_type": "execute_result"
    }
   ],
   "source": [
    "import time\n",
    "time.localtime()"
   ]
  },
  {
   "cell_type": "markdown",
   "id": "68d44ff8",
   "metadata": {},
   "source": [
    "# Data structure=List,Tuple,Set,Dictionary,Chapter :Nine"
   ]
  },
  {
   "cell_type": "markdown",
   "id": "1192e4f0",
   "metadata": {},
   "source": [
    "# List"
   ]
  },
  {
   "cell_type": "code",
   "execution_count": 7,
   "id": "f2cd6405",
   "metadata": {},
   "outputs": [
    {
     "name": "stdout",
     "output_type": "stream",
     "text": [
      "['Bangladesh', 'India', 'pakistan', 'Nepal', 'Bhutan', 'afganistan']\n"
     ]
    }
   ],
   "source": [
    "saarc=['Bangladesh','India','pakistan','Nepal','Bhutan']\n",
    "saarc.append('afganistan')\n",
    "print(saarc)\n"
   ]
  },
  {
   "cell_type": "code",
   "execution_count": 11,
   "id": "0091a14e",
   "metadata": {},
   "outputs": [
    {
     "name": "stdout",
     "output_type": "stream",
     "text": [
      "['Bangladesh', 'Bhutan', 'India', 'Nepal', 'pakistan']\n"
     ]
    }
   ],
   "source": [
    "saarc=['Bangladesh','India','pakistan','Nepal','Bhutan']\n",
    "saarc.sort()\n",
    "print(saarc)\n"
   ]
  },
  {
   "cell_type": "code",
   "execution_count": 22,
   "id": "cf165393",
   "metadata": {},
   "outputs": [
    {
     "name": "stdout",
     "output_type": "stream",
     "text": [
      "['Bangladesh', 'Bhutan', 'Nepal', 'afganistan', 'india', 'pakistan']\n"
     ]
    }
   ],
   "source": [
    "saarc=['Bangladesh', 'india', 'pakistan', 'Nepal', 'Bhutan', 'afganistan']\n",
    "saarc.sort()\n",
    "print(saarc)"
   ]
  },
  {
   "cell_type": "code",
   "execution_count": 3,
   "id": "703dccd7",
   "metadata": {},
   "outputs": [
    {
     "name": "stdout",
     "output_type": "stream",
     "text": [
      "['Bangladesh', 'Bhutan', 'India', 'Nepal', 'afganistan', 'pakistan']\n"
     ]
    }
   ],
   "source": [
    "saarc=['Bangladesh', 'India', 'pakistan', 'Nepal', 'Bhutan', 'afganistan']\n",
    "saarc.sort()\n",
    "print(saarc)"
   ]
  },
  {
   "cell_type": "code",
   "execution_count": 19,
   "id": "b494c8d7",
   "metadata": {},
   "outputs": [
    {
     "name": "stdout",
     "output_type": "stream",
     "text": [
      "[0, 1, 1, 2, 4, 4, 4, 6, 6, 7, 8, 8, 8, 9]\n"
     ]
    }
   ],
   "source": [
    "list=[1,4,2,8,0,4,6,8,1,4,6,7,8,9]\n",
    "list.sort()\n",
    "print(list)"
   ]
  },
  {
   "cell_type": "code",
   "execution_count": 21,
   "id": "be6fedba",
   "metadata": {},
   "outputs": [
    {
     "name": "stdout",
     "output_type": "stream",
     "text": [
      "['Emamul', 'Fardin', 'Tanjir', 'ashik', 'rokon']\n"
     ]
    }
   ],
   "source": [
    "friends=['Emamul','Tanjir','ashik','Fardin','rokon']\n",
    "friends.sort()\n",
    "print(friends)"
   ]
  },
  {
   "cell_type": "code",
   "execution_count": 23,
   "id": "814751ed",
   "metadata": {},
   "outputs": [
    {
     "name": "stdout",
     "output_type": "stream",
     "text": [
      "[9, 8, 7, 6, 4, 1, 8, 6, 4, 0, 8, 2, 4, 1]\n"
     ]
    }
   ],
   "source": [
    "list=[1,4,2,8,0,4,6,8,1,4,6,7,8,9]\n",
    "list.reverse()\n",
    "print(list)"
   ]
  },
  {
   "cell_type": "code",
   "execution_count": 24,
   "id": "d36f611e",
   "metadata": {},
   "outputs": [
    {
     "name": "stdout",
     "output_type": "stream",
     "text": [
      "['rokon', 'Fardin', 'ashik', 'Tanjir', 'Emamul']\n"
     ]
    }
   ],
   "source": [
    "friends=['Emamul','Tanjir','ashik','Fardin','rokon']\n",
    "friends.reverse()\n",
    "print(friends)"
   ]
  },
  {
   "cell_type": "code",
   "execution_count": 25,
   "id": "303782d6",
   "metadata": {},
   "outputs": [
    {
     "name": "stdout",
     "output_type": "stream",
     "text": [
      "['afganistan', 'Bhutan', 'Nepal', 'pakistan', 'india', 'Bangladesh']\n"
     ]
    }
   ],
   "source": [
    "saarc=['Bangladesh', 'india', 'pakistan', 'Nepal', 'Bhutan', 'afganistan']\n",
    "saarc.reverse()\n",
    "print(saarc)"
   ]
  },
  {
   "cell_type": "code",
   "execution_count": 5,
   "id": "bc61f345",
   "metadata": {},
   "outputs": [
    {
     "name": "stdout",
     "output_type": "stream",
     "text": [
      "['Bangladesh', 'american', 'india', 'pakistan', 'Nepal', 'Bhutan', 'afganistan']\n"
     ]
    }
   ],
   "source": [
    "saarc=['Bangladesh', 'india', 'pakistan', 'Nepal', 'Bhutan', 'afganistan']\n",
    "saarc.insert(1, 'american')\n",
    "print(saarc)"
   ]
  },
  {
   "cell_type": "code",
   "execution_count": 27,
   "id": "f394f81a",
   "metadata": {},
   "outputs": [
    {
     "name": "stdout",
     "output_type": "stream",
     "text": [
      "['Bangladesh', 'india', 'pakistan', 'Nepal', 'Bhutan', 'canada', 'afganistan']\n"
     ]
    }
   ],
   "source": [
    "saarc=['Bangladesh', 'india', 'pakistan', 'Nepal', 'Bhutan', 'afganistan']\n",
    "saarc.insert(5, 'canada')\n",
    "print(saarc)"
   ]
  },
  {
   "cell_type": "code",
   "execution_count": 28,
   "id": "0977aa5e",
   "metadata": {},
   "outputs": [
    {
     "name": "stdout",
     "output_type": "stream",
     "text": [
      "['Bangladesh', 'india', 'pakistan', 'Nepal', 'Bhutan', 'afganistan', 'japan']\n"
     ]
    }
   ],
   "source": [
    "saarc=['Bangladesh', 'india', 'pakistan', 'Nepal', 'Bhutan', 'afganistan']\n",
    "saarc.insert(7, 'japan')\n",
    "print(saarc)"
   ]
  },
  {
   "cell_type": "code",
   "execution_count": 29,
   "id": "688b8c6f",
   "metadata": {},
   "outputs": [
    {
     "name": "stdout",
     "output_type": "stream",
     "text": [
      "['Bangladesh', 'india', 'pakistan', 'Nepal', 'Bhutan', 'afganistan', 'argentina']\n"
     ]
    }
   ],
   "source": [
    "saarc=['Bangladesh', 'india', 'pakistan', 'Nepal', 'Bhutan', 'afganistan']\n",
    "saarc.insert(10, 'argentina')\n",
    "print(saarc)"
   ]
  },
  {
   "cell_type": "code",
   "execution_count": 32,
   "id": "46151c57",
   "metadata": {},
   "outputs": [
    {
     "name": "stdout",
     "output_type": "stream",
     "text": [
      "['Bangladesh', 'india', 'pakistan', 'Nepal', 'afganistan']\n"
     ]
    }
   ],
   "source": [
    "saarc=['Bangladesh', 'india', 'pakistan', 'Nepal', 'Bhutan', 'afganistan']\n",
    "saarc.remove('Bhutan')\n",
    "print(saarc)"
   ]
  },
  {
   "cell_type": "code",
   "execution_count": 33,
   "id": "cc5cb4f9",
   "metadata": {},
   "outputs": [
    {
     "name": "stdout",
     "output_type": "stream",
     "text": [
      "['Bangladesh', 'pakistan', 'Nepal', 'Bhutan', 'afganistan']\n"
     ]
    }
   ],
   "source": [
    "saarc=['Bangladesh', 'india', 'pakistan', 'Nepal', 'Bhutan', 'afganistan']\n",
    "saarc.remove('Bhutan')\n",
    "print(saarc)"
   ]
  },
  {
   "cell_type": "code",
   "execution_count": 34,
   "id": "8d9c1d3e",
   "metadata": {},
   "outputs": [
    {
     "name": "stdout",
     "output_type": "stream",
     "text": [
      "['Bangladesh', 'india', 'Nepal', 'Bhutan', 'afganistan']\n"
     ]
    }
   ],
   "source": [
    "saarc=['Bangladesh', 'india', 'pakistan', 'Nepal', 'Bhutan', 'afganistan']\n",
    "saarc.remove('pakistan')\n",
    "print(saarc)"
   ]
  },
  {
   "cell_type": "code",
   "execution_count": 36,
   "id": "012d5a4b",
   "metadata": {},
   "outputs": [
    {
     "name": "stdout",
     "output_type": "stream",
     "text": [
      "item is absent\n"
     ]
    }
   ],
   "source": [
    "country=['Bangladesh', 'india', 'Nepal', 'Bhutan', 'afganistan']\n",
    "item=\"pakistan\"\n",
    "if item in country:\n",
    "    remove(item)\n",
    "else:\n",
    "    print('item is absent')\n"
   ]
  },
  {
   "cell_type": "code",
   "execution_count": 7,
   "id": "1dd65d17",
   "metadata": {},
   "outputs": [
    {
     "name": "stdout",
     "output_type": "stream",
     "text": [
      "Name is absent\n"
     ]
    }
   ],
   "source": [
    "friends=['Emamul hossen','Ashik']\n",
    "name='Rokon'\n",
    "if name in friends:\n",
    "    remove(item)\n",
    "else:\n",
    "    print('Name is absent')"
   ]
  },
  {
   "cell_type": "code",
   "execution_count": 38,
   "id": "5d7fe368",
   "metadata": {},
   "outputs": [
    {
     "name": "stdout",
     "output_type": "stream",
     "text": [
      "Bangladesh\n"
     ]
    }
   ],
   "source": [
    "country=['Bangladesh', 'india', 'Nepal', 'Bhutan', 'afganistan']\n",
    "item=\"Bangladesh\"\n",
    "if item in country:\n",
    "    print(item)\n",
    "else:\n",
    "    print('item is absent')"
   ]
  },
  {
   "cell_type": "code",
   "execution_count": 41,
   "id": "6317dded",
   "metadata": {},
   "outputs": [
    {
     "name": "stdout",
     "output_type": "stream",
     "text": [
      "BANGLADESH\n"
     ]
    }
   ],
   "source": [
    "country=['Bangladesh', 'india', 'Nepal', 'Bhutan', 'afganistan']\n",
    "item=\"Bangladesh\"\n",
    "if item in country:\n",
    "    print(item.upper())\n",
    "\n",
    "else:\n",
    "    print('item is absent')\n"
   ]
  },
  {
   "cell_type": "code",
   "execution_count": 43,
   "id": "22cd137f",
   "metadata": {},
   "outputs": [
    {
     "name": "stdout",
     "output_type": "stream",
     "text": [
      "                                           item is absent                                           \n"
     ]
    }
   ],
   "source": [
    "country=['Bangladesh', 'india', 'Nepal', 'Bhutan', 'afganistan']\n",
    "item=\"pakistan\"\n",
    "if item in country:\n",
    "    print(item.upper())\n",
    "\n",
    "else:\n",
    "    print('item is absent'.center(100))"
   ]
  },
  {
   "cell_type": "code",
   "execution_count": 45,
   "id": "56962195",
   "metadata": {},
   "outputs": [
    {
     "name": "stdout",
     "output_type": "stream",
     "text": [
      "Bangladesh\n"
     ]
    }
   ],
   "source": [
    "country=['Bangladesh', 'india', 'Nepal', 'Bhutan', 'afganistan']\n",
    "item=\"Bangladesh\"\n",
    "if item in country:\n",
    "    print(item.capitalize())\n",
    "\n",
    "else:\n",
    "    print('item is absent')"
   ]
  },
  {
   "cell_type": "code",
   "execution_count": 52,
   "id": "6ef99d11",
   "metadata": {},
   "outputs": [
    {
     "data": {
      "text/plain": [
       "[1, 2, 3, 4, 6, 7, 8, 9]"
      ]
     },
     "execution_count": 52,
     "metadata": {},
     "output_type": "execute_result"
    }
   ],
   "source": [
    "li1=[1,2,3,4]\n",
    "li2=[6,7,8,9]\n",
    "li1.extend(li2)\n",
    "li1"
   ]
  },
  {
   "cell_type": "code",
   "execution_count": 53,
   "id": "ecd67604",
   "metadata": {},
   "outputs": [
    {
     "name": "stdout",
     "output_type": "stream",
     "text": [
      "[1, 2, 3, 4, 6, 7, 8, 9]\n"
     ]
    }
   ],
   "source": [
    "li1=[1,2,3,4]\n",
    "li2=[6,7,8,9]\n",
    "li1.extend(li2)\n",
    "print(li1)"
   ]
  },
  {
   "cell_type": "code",
   "execution_count": 54,
   "id": "e64ee3c2",
   "metadata": {},
   "outputs": [
    {
     "name": "stdout",
     "output_type": "stream",
     "text": [
      "['Bangladesh', 'india', 'pakistan', 'Nepal', 'Bhutan', 'afganistan', 1, 2, 3, 4, 5, 6, 7, 8, 9, 0]\n"
     ]
    }
   ],
   "source": [
    "saarc=['Bangladesh', 'india', 'pakistan', 'Nepal', 'Bhutan', 'afganistan']\n",
    "li=[1,2,3,4,5,6,7,8,9,0]\n",
    "saarc.extend(li)\n",
    "print(saarc)"
   ]
  },
  {
   "cell_type": "code",
   "execution_count": 57,
   "id": "0bc80209",
   "metadata": {},
   "outputs": [
    {
     "data": {
      "text/plain": [
       "[1, 3, 4, 5, 6, 7, 8, 9, 0]"
      ]
     },
     "execution_count": 57,
     "metadata": {},
     "output_type": "execute_result"
    }
   ],
   "source": [
    "li=[1,2,3,4,5,6,7,8,9,0]\n",
    "del(li[1])\n",
    "li"
   ]
  },
  {
   "cell_type": "code",
   "execution_count": 58,
   "id": "f77080ed",
   "metadata": {},
   "outputs": [
    {
     "name": "stdout",
     "output_type": "stream",
     "text": [
      "[1, 3, 4, 5, 6, 7, 8, 9, 0]\n"
     ]
    }
   ],
   "source": [
    "li=[1,2,3,4,5,6,7,8,9,0]\n",
    "del(li[1])\n",
    "print(li)"
   ]
  },
  {
   "cell_type": "code",
   "execution_count": 59,
   "id": "9e1b925d",
   "metadata": {},
   "outputs": [
    {
     "data": {
      "text/plain": [
       "[1, 2, 3, 4, 5, 7, 8, 9, 0]"
      ]
     },
     "execution_count": 59,
     "metadata": {},
     "output_type": "execute_result"
    }
   ],
   "source": [
    "li=[1,2,3,4,5,6,7,8,9,0]\n",
    "del(li[5])\n",
    "li"
   ]
  },
  {
   "cell_type": "code",
   "execution_count": 61,
   "id": "8c9039d0",
   "metadata": {},
   "outputs": [
    {
     "name": "stdout",
     "output_type": "stream",
     "text": [
      "[1, 2, 3, 4, 5, 6, 7, 8, 9]\n"
     ]
    }
   ],
   "source": [
    "li=[1,2,3,4,5,6,7,8,9,0]\n",
    "del(li[9])\n",
    "print(li)"
   ]
  },
  {
   "cell_type": "code",
   "execution_count": 62,
   "id": "d39f54f7",
   "metadata": {},
   "outputs": [
    {
     "name": "stdout",
     "output_type": "stream",
     "text": [
      "[1, 2, 3, 4, 6, 7, 8, 9]\n"
     ]
    }
   ],
   "source": [
    "li1=[1,2,3,4]\n",
    "li2=[6,7,8,9]\n",
    "li=li1+li2\n",
    "print(li)"
   ]
  },
  {
   "cell_type": "code",
   "execution_count": 65,
   "id": "3a9a60fb",
   "metadata": {},
   "outputs": [
    {
     "name": "stdout",
     "output_type": "stream",
     "text": [
      "[1, 2, 3, 4, 1, 2, 3, 4, 1, 2, 3, 4, 1, 2, 3, 4]\n"
     ]
    }
   ],
   "source": [
    "li1=[1,2,3,4]\n",
    "li=li1*4\n",
    "print(li)"
   ]
  },
  {
   "cell_type": "code",
   "execution_count": 66,
   "id": "442fa3a3",
   "metadata": {},
   "outputs": [
    {
     "name": "stdout",
     "output_type": "stream",
     "text": [
      "[1, 2, 3, 4, 1, 2, 3, 4, 1, 2, 3, 4, 1, 2, 3, 4, 1, 2, 3, 4]\n"
     ]
    }
   ],
   "source": [
    "li1=[1,2,3,4]\n",
    "li=li1*5\n",
    "print(li)"
   ]
  },
  {
   "cell_type": "markdown",
   "id": "0a67a17e",
   "metadata": {},
   "source": [
    "# 'List cpmprehensions'"
   ]
  },
  {
   "cell_type": "code",
   "execution_count": 68,
   "id": "d6f58abd",
   "metadata": {},
   "outputs": [
    {
     "name": "stdout",
     "output_type": "stream",
     "text": [
      "[2, 4, 6, 8]\n"
     ]
    }
   ],
   "source": [
    "li=[1,2,3,4]\n",
    "new_list=[]\n",
    "for x in li:\n",
    "    new_list.append(2*x)\n",
    "print(new_list)"
   ]
  },
  {
   "cell_type": "code",
   "execution_count": 69,
   "id": "2b808975",
   "metadata": {},
   "outputs": [
    {
     "name": "stdout",
     "output_type": "stream",
     "text": [
      "[3, 6, 9, 12]\n"
     ]
    }
   ],
   "source": [
    "li=[1,2,3,4]\n",
    "new_list=[]\n",
    "for x in li:\n",
    "    new_list.append(3*x)\n",
    "print(new_list)"
   ]
  },
  {
   "cell_type": "code",
   "execution_count": 70,
   "id": "15c52533",
   "metadata": {},
   "outputs": [
    {
     "data": {
      "text/plain": [
       "[2, 4, 6, 8]"
      ]
     },
     "execution_count": 70,
     "metadata": {},
     "output_type": "execute_result"
    }
   ],
   "source": [
    "li=[1,2,3,4]\n",
    "new_list=[2*x for x in li]\n",
    "new_list"
   ]
  },
  {
   "cell_type": "code",
   "execution_count": 71,
   "id": "d7b095d1",
   "metadata": {},
   "outputs": [
    {
     "name": "stdout",
     "output_type": "stream",
     "text": [
      "[2, 4, 6, 8]\n"
     ]
    }
   ],
   "source": [
    "li=[1,2,3,4]\n",
    "new_list=[2*x for x in li]\n",
    "print(new_list)"
   ]
  },
  {
   "cell_type": "code",
   "execution_count": 72,
   "id": "4b548eb3",
   "metadata": {},
   "outputs": [
    {
     "name": "stdout",
     "output_type": "stream",
     "text": [
      "[3, 6, 9, 12, 15, 18, 21, 24, 27]\n"
     ]
    }
   ],
   "source": [
    "list=[1,2,3,4,5,6,7,8,9]\n",
    "new_list=[3*x for x in list]\n",
    "print(new_list)"
   ]
  },
  {
   "cell_type": "markdown",
   "id": "2df89ef4",
   "metadata": {},
   "source": [
    "# 'Uses of Tuple'"
   ]
  },
  {
   "cell_type": "code",
   "execution_count": 73,
   "id": "0661ebff",
   "metadata": {},
   "outputs": [
    {
     "data": {
      "text/plain": [
       "list"
      ]
     },
     "execution_count": 73,
     "metadata": {},
     "output_type": "execute_result"
    }
   ],
   "source": [
    "li=[1,2,3,4,5]\n",
    "type(li)"
   ]
  },
  {
   "cell_type": "code",
   "execution_count": 79,
   "id": "e09f8b64",
   "metadata": {},
   "outputs": [
    {
     "data": {
      "text/plain": [
       "tuple"
      ]
     },
     "execution_count": 79,
     "metadata": {},
     "output_type": "execute_result"
    }
   ],
   "source": [
    "li=(1,2,3,4,5)\n",
    "type(li)"
   ]
  },
  {
   "cell_type": "code",
   "execution_count": 80,
   "id": "dfe8fbd8",
   "metadata": {},
   "outputs": [
    {
     "data": {
      "text/plain": [
       "tuple"
      ]
     },
     "execution_count": 80,
     "metadata": {},
     "output_type": "execute_result"
    }
   ],
   "source": [
    "li=1,2,3,4,5\n",
    "type(li)"
   ]
  },
  {
   "cell_type": "code",
   "execution_count": 81,
   "id": "b3ae4033",
   "metadata": {},
   "outputs": [
    {
     "data": {
      "text/plain": [
       "int"
      ]
     },
     "execution_count": 81,
     "metadata": {},
     "output_type": "execute_result"
    }
   ],
   "source": [
    "x=1\n",
    "type(x)"
   ]
  },
  {
   "cell_type": "code",
   "execution_count": 82,
   "id": "779c7857",
   "metadata": {},
   "outputs": [
    {
     "data": {
      "text/plain": [
       "tuple"
      ]
     },
     "execution_count": 82,
     "metadata": {},
     "output_type": "execute_result"
    }
   ],
   "source": [
    "x=1,\n",
    "type(x)"
   ]
  },
  {
   "cell_type": "code",
   "execution_count": 83,
   "id": "08e735b6",
   "metadata": {},
   "outputs": [
    {
     "data": {
      "text/plain": [
       "tuple"
      ]
     },
     "execution_count": 83,
     "metadata": {},
     "output_type": "execute_result"
    }
   ],
   "source": [
    "x=()\n",
    "type(x)"
   ]
  },
  {
   "cell_type": "code",
   "execution_count": 3,
   "id": "60a6b873",
   "metadata": {},
   "outputs": [
    {
     "data": {
      "text/plain": [
       "1"
      ]
     },
     "execution_count": 3,
     "metadata": {},
     "output_type": "execute_result"
    }
   ],
   "source": [
    "tpl=(1,2,3,4,5,6,7,8,9)\n",
    "tpl[0]"
   ]
  },
  {
   "cell_type": "code",
   "execution_count": 85,
   "id": "c4dc63ec",
   "metadata": {},
   "outputs": [
    {
     "data": {
      "text/plain": [
       "2"
      ]
     },
     "execution_count": 85,
     "metadata": {},
     "output_type": "execute_result"
    }
   ],
   "source": [
    "tpl[1]"
   ]
  },
  {
   "cell_type": "code",
   "execution_count": 86,
   "id": "8e60ad57",
   "metadata": {},
   "outputs": [
    {
     "data": {
      "text/plain": [
       "8"
      ]
     },
     "execution_count": 86,
     "metadata": {},
     "output_type": "execute_result"
    }
   ],
   "source": [
    "tpl[7]"
   ]
  },
  {
   "cell_type": "code",
   "execution_count": 87,
   "id": "cd3af9e9",
   "metadata": {},
   "outputs": [
    {
     "data": {
      "text/plain": [
       "1"
      ]
     },
     "execution_count": 87,
     "metadata": {},
     "output_type": "execute_result"
    }
   ],
   "source": [
    "digit=(1,2,3,4,5,6,7,8,9)\n",
    "digit[0]"
   ]
  },
  {
   "cell_type": "code",
   "execution_count": 88,
   "id": "49269d08",
   "metadata": {},
   "outputs": [
    {
     "data": {
      "text/plain": [
       "2"
      ]
     },
     "execution_count": 88,
     "metadata": {},
     "output_type": "execute_result"
    }
   ],
   "source": [
    "digit[1]"
   ]
  },
  {
   "cell_type": "code",
   "execution_count": 89,
   "id": "e4d09c40",
   "metadata": {},
   "outputs": [
    {
     "data": {
      "text/plain": [
       "6"
      ]
     },
     "execution_count": 89,
     "metadata": {},
     "output_type": "execute_result"
    }
   ],
   "source": [
    "digit[5]"
   ]
  },
  {
   "cell_type": "code",
   "execution_count": 90,
   "id": "10f726dc",
   "metadata": {},
   "outputs": [
    {
     "data": {
      "text/plain": [
       "tuple"
      ]
     },
     "execution_count": 90,
     "metadata": {},
     "output_type": "execute_result"
    }
   ],
   "source": [
    "tpl=(1,2,3,4,5,[1,2,3,4,5,6],'bangladesh','biomedical','islamic')\n",
    "type(tpl)"
   ]
  },
  {
   "cell_type": "code",
   "execution_count": 91,
   "id": "9fcc5a96",
   "metadata": {},
   "outputs": [
    {
     "name": "stdout",
     "output_type": "stream",
     "text": [
      "<class 'int'>\n",
      "<class 'int'>\n",
      "<class 'int'>\n",
      "<class 'int'>\n",
      "<class 'int'>\n",
      "<class 'list'>\n",
      "<class 'str'>\n",
      "<class 'str'>\n",
      "<class 'str'>\n"
     ]
    }
   ],
   "source": [
    "tpl=(1,2,3,4,5,[1,2,3,4,5,6],'bangladesh','biomedical','islamic')\n",
    "for tpls in tpl:\n",
    "    print(type(tpls))"
   ]
  },
  {
   "cell_type": "code",
   "execution_count": 1,
   "id": "e3f94e2b",
   "metadata": {},
   "outputs": [
    {
     "name": "stdout",
     "output_type": "stream",
     "text": [
      "[1, 2, 3, 4, 5, 6, 7, 8, 9]\n"
     ]
    }
   ],
   "source": [
    "tpl=(1,2,3,4,5,6,7,8,9)\n",
    "li=list(tpl)\n",
    "print(li)"
   ]
  },
  {
   "cell_type": "code",
   "execution_count": 2,
   "id": "8c4bb11c",
   "metadata": {},
   "outputs": [
    {
     "name": "stdout",
     "output_type": "stream",
     "text": [
      "{1, 2, 3, 4, 5, 6, 7, 8, 9}\n"
     ]
    }
   ],
   "source": [
    "tpl=(1,2,3,4,5,6,7,8,9)\n",
    "li=set(tpl)\n",
    "print(li)"
   ]
  },
  {
   "cell_type": "code",
   "execution_count": 6,
   "id": "2d80e863",
   "metadata": {},
   "outputs": [
    {
     "name": "stdout",
     "output_type": "stream",
     "text": [
      "(1, 2, 3, 4, 5, 6, 7, 8, 9)\n"
     ]
    }
   ],
   "source": [
    "s={1, 2, 3, 4, 5, 6, 7, 8, 9}\n",
    "li=tuple(s)\n",
    "print(li)"
   ]
  },
  {
   "cell_type": "markdown",
   "id": "40eb6250",
   "metadata": {},
   "source": [
    "# 'Uses of set'"
   ]
  },
  {
   "cell_type": "code",
   "execution_count": 7,
   "id": "8ef215f6",
   "metadata": {},
   "outputs": [
    {
     "name": "stdout",
     "output_type": "stream",
     "text": [
      "set()\n"
     ]
    }
   ],
   "source": [
    "A=set()\n",
    "print(A)"
   ]
  },
  {
   "cell_type": "code",
   "execution_count": 8,
   "id": "781c9e04",
   "metadata": {},
   "outputs": [
    {
     "data": {
      "text/plain": [
       "set()"
      ]
     },
     "execution_count": 8,
     "metadata": {},
     "output_type": "execute_result"
    }
   ],
   "source": [
    "A=set()\n",
    "(A)"
   ]
  },
  {
   "cell_type": "code",
   "execution_count": 9,
   "id": "4a69d24e",
   "metadata": {},
   "outputs": [
    {
     "data": {
      "text/plain": [
       "set()"
      ]
     },
     "execution_count": 9,
     "metadata": {},
     "output_type": "execute_result"
    }
   ],
   "source": [
    "A=set()\n",
    "A"
   ]
  },
  {
   "cell_type": "code",
   "execution_count": 10,
   "id": "2cfeef00",
   "metadata": {},
   "outputs": [
    {
     "name": "stdout",
     "output_type": "stream",
     "text": [
      "{'laptop', 'khata', 'pen', 'glass', 'mobilephone', 'book'}\n"
     ]
    }
   ],
   "source": [
    "need_elements={'mobilephone','laptop','pen','glass','book','khata'}\n",
    "text=need_elements\n",
    "print(text)"
   ]
  },
  {
   "cell_type": "code",
   "execution_count": 16,
   "id": "d2a9fdcc",
   "metadata": {},
   "outputs": [
    {
     "name": "stdout",
     "output_type": "stream",
     "text": [
      "{'laptop', 'khata', 'pen', 'glass', 'mobilephone', 'book'}\n"
     ]
    }
   ],
   "source": [
    "need_elements={'mobilephone','laptop','pen','glass','book','khata'}\n",
    "text=need_elements\n",
    "print(text)"
   ]
  },
  {
   "cell_type": "code",
   "execution_count": 17,
   "id": "4666d520",
   "metadata": {},
   "outputs": [
    {
     "data": {
      "text/plain": [
       "set"
      ]
     },
     "execution_count": 17,
     "metadata": {},
     "output_type": "execute_result"
    }
   ],
   "source": [
    "type(text)"
   ]
  },
  {
   "cell_type": "markdown",
   "id": "99ba8715",
   "metadata": {},
   "source": [
    "# 'Conversion between SET and TUPLE'"
   ]
  },
  {
   "cell_type": "code",
   "execution_count": 18,
   "id": "fdc23d69",
   "metadata": {},
   "outputs": [
    {
     "name": "stdout",
     "output_type": "stream",
     "text": [
      "{1, 2, 3, 4, 5, 6, 7, 8, 9}\n"
     ]
    }
   ],
   "source": [
    "tpl=(1,2,3,4,5,6,7,8,9)\n",
    "next=set(tpl)\n",
    "print(next)"
   ]
  },
  {
   "cell_type": "code",
   "execution_count": 19,
   "id": "52b97008",
   "metadata": {},
   "outputs": [
    {
     "name": "stdout",
     "output_type": "stream",
     "text": [
      "(1, 2, 3, 4, 5, 6, 7, 8, 9)\n"
     ]
    }
   ],
   "source": [
    "set={1, 2, 3, 4, 5, 6, 7, 8, 9}\n",
    "next=tuple(set)\n",
    "print(next)"
   ]
  },
  {
   "cell_type": "code",
   "execution_count": 20,
   "id": "47db49ad",
   "metadata": {},
   "outputs": [
    {
     "name": "stdout",
     "output_type": "stream",
     "text": [
      "[1, 2, 3, 4, 5, 6, 7, 8, 9]\n"
     ]
    }
   ],
   "source": [
    "tpl=(1,2,3,4,5,6,7,8,9)\n",
    "next=list(tpl)\n",
    "print(next)"
   ]
  },
  {
   "cell_type": "code",
   "execution_count": 21,
   "id": "f371ebde",
   "metadata": {},
   "outputs": [
    {
     "name": "stdout",
     "output_type": "stream",
     "text": [
      "(1, 2, 3, 4, 5, 6, 7, 8, 9)\n"
     ]
    }
   ],
   "source": [
    "list=[1, 2, 3, 4, 5, 6, 7, 8, 9]\n",
    "next=tuple(list)\n",
    "print(next)"
   ]
  },
  {
   "cell_type": "code",
   "execution_count": 1,
   "id": "2badcd64",
   "metadata": {},
   "outputs": [
    {
     "name": "stdout",
     "output_type": "stream",
     "text": [
      "{1, 2, 3, 4, 5, 6, 7, 8, 9}\n"
     ]
    }
   ],
   "source": [
    "list=[1, 2, 3, 4, 5, 6, 7, 8, 9]\n",
    "next=set(list)\n",
    "print(next)"
   ]
  },
  {
   "cell_type": "code",
   "execution_count": 33,
   "id": "359ff39a",
   "metadata": {},
   "outputs": [
    {
     "data": {
      "text/plain": [
       "True"
      ]
     },
     "execution_count": 33,
     "metadata": {},
     "output_type": "execute_result"
    }
   ],
   "source": [
    "a={1,2,3,4,5,6,7,78,8}\n",
    "1 in a"
   ]
  },
  {
   "cell_type": "code",
   "execution_count": 34,
   "id": "f67db5a4",
   "metadata": {},
   "outputs": [
    {
     "name": "stdout",
     "output_type": "stream",
     "text": [
      "True\n"
     ]
    }
   ],
   "source": [
    "a={1,2,3,4,5,6,7,78,8}\n",
    "next=1 in a\n",
    "print(next)"
   ]
  },
  {
   "cell_type": "code",
   "execution_count": 35,
   "id": "7f92d127",
   "metadata": {},
   "outputs": [
    {
     "name": "stdout",
     "output_type": "stream",
     "text": [
      "False\n"
     ]
    }
   ],
   "source": [
    "a={1,2,3,4,5,6,7,78,8}\n",
    "next=10 in a\n",
    "print(next)"
   ]
  },
  {
   "cell_type": "code",
   "execution_count": 36,
   "id": "34b324ed",
   "metadata": {},
   "outputs": [
    {
     "name": "stdout",
     "output_type": "stream",
     "text": [
      "False\n"
     ]
    }
   ],
   "source": [
    "a={1,2,3,4,5,6,7,78,8}\n",
    "next=12 in a\n",
    "print(next)"
   ]
  },
  {
   "cell_type": "code",
   "execution_count": 37,
   "id": "43a72651",
   "metadata": {},
   "outputs": [
    {
     "name": "stdout",
     "output_type": "stream",
     "text": [
      "True\n"
     ]
    },
    {
     "data": {
      "text/plain": [
       "set"
      ]
     },
     "execution_count": 37,
     "metadata": {},
     "output_type": "execute_result"
    }
   ],
   "source": [
    "a={1,2,3,4,5,6,7,78,8}\n",
    "next=1 in a\n",
    "print(next)\n",
    "type(a)"
   ]
  },
  {
   "cell_type": "code",
   "execution_count": 38,
   "id": "2a7088bc",
   "metadata": {},
   "outputs": [
    {
     "name": "stdout",
     "output_type": "stream",
     "text": [
      "{5, 6, 7, 8, 9}\n"
     ]
    }
   ],
   "source": [
    "a={1,2,3,4}\n",
    "b={5,6,7,8,9,}\n",
    "c=a and b\n",
    "print(c)"
   ]
  },
  {
   "cell_type": "code",
   "execution_count": 39,
   "id": "6cf9a2e2",
   "metadata": {},
   "outputs": [
    {
     "name": "stdout",
     "output_type": "stream",
     "text": [
      "set()\n"
     ]
    }
   ],
   "source": [
    "a={1,2,3,4,8}\n",
    "b={5,6,7,8,9,1,2,3,4}\n",
    "c=a - b\n",
    "print(c)"
   ]
  },
  {
   "cell_type": "markdown",
   "id": "75df09b2",
   "metadata": {},
   "source": [
    "# \"Uses of Dictionary\""
   ]
  },
  {
   "cell_type": "code",
   "execution_count": 8,
   "id": "18df77ba",
   "metadata": {},
   "outputs": [
    {
     "name": "stdout",
     "output_type": "stream",
     "text": [
      "please enter your roll:5\n",
      "your marks is 15\n"
     ]
    }
   ],
   "source": [
    "marks=[11,12,13,14,15,16,17,18,19]\n",
    "roll=input(\"please enter your roll:\")\n",
    "print(\"your marks is\" ,marks[int(roll)-1])\n"
   ]
  },
  {
   "cell_type": "code",
   "execution_count": 6,
   "id": "80b9f3e2",
   "metadata": {},
   "outputs": [
    {
     "name": "stdout",
     "output_type": "stream",
     "text": [
      "please enter your roll:2\n",
      "your marks is 12\n"
     ]
    },
    {
     "data": {
      "text/plain": [
       "list"
      ]
     },
     "execution_count": 6,
     "metadata": {},
     "output_type": "execute_result"
    }
   ],
   "source": [
    "\n",
    "marks=[11,12,13,14,15,16,17,18,19]\n",
    "roll=input(\"please enter your roll:\")\n",
    "print(\"your marks is\" ,marks[int(roll)-1])\n",
    "type(marks)"
   ]
  },
  {
   "cell_type": "code",
   "execution_count": 5,
   "id": "33a75afb",
   "metadata": {},
   "outputs": [
    {
     "data": {
      "text/plain": [
       "{'name': 'Emamul', 'versity': 'IU', 'department': 'BME'}"
      ]
     },
     "execution_count": 5,
     "metadata": {},
     "output_type": "execute_result"
    }
   ],
   "source": [
    "dic={\"name\" : \"Emamul\",\n",
    "      \"versity\" : \"IU\",\n",
    "      \"department\" : \"BME\",\n",
    "} \n",
    "dic"
   ]
  },
  {
   "cell_type": "code",
   "execution_count": 1,
   "id": "848e6eff",
   "metadata": {},
   "outputs": [
    {
     "data": {
      "text/plain": [
       "{'name': 'Emamul', 'versity': 'IU', 'department': 'BME'}"
      ]
     },
     "execution_count": 1,
     "metadata": {},
     "output_type": "execute_result"
    }
   ],
   "source": [
    "dic={\"name\" : \"Emamul\",\n",
    "      \"versity\" : \"IU\",\n",
    "      \"department\" : \"BME\",\n",
    "}  \n",
    "\n",
    "dic"
   ]
  },
  {
   "cell_type": "code",
   "execution_count": 15,
   "id": "8f4adb73",
   "metadata": {},
   "outputs": [
    {
     "data": {
      "text/plain": [
       "dict_keys(['name', 'versity', 'department'])"
      ]
     },
     "execution_count": 15,
     "metadata": {},
     "output_type": "execute_result"
    }
   ],
   "source": [
    "dic.keys()"
   ]
  },
  {
   "cell_type": "code",
   "execution_count": 16,
   "id": "ba051601",
   "metadata": {},
   "outputs": [
    {
     "data": {
      "text/plain": [
       "dict_values(['Emamul', 'IU', 'BME'])"
      ]
     },
     "execution_count": 16,
     "metadata": {},
     "output_type": "execute_result"
    }
   ],
   "source": [
    "dic.values()"
   ]
  },
  {
   "cell_type": "code",
   "execution_count": 17,
   "id": "992c5490",
   "metadata": {},
   "outputs": [
    {
     "data": {
      "text/plain": [
       "dict"
      ]
     },
     "execution_count": 17,
     "metadata": {},
     "output_type": "execute_result"
    }
   ],
   "source": [
    "type(dic)"
   ]
  },
  {
   "cell_type": "code",
   "execution_count": 6,
   "id": "7ca703ae",
   "metadata": {},
   "outputs": [],
   "source": [
    "#copy\n",
    "dic2=dic.copy()"
   ]
  },
  {
   "cell_type": "code",
   "execution_count": 21,
   "id": "a54dbd00",
   "metadata": {},
   "outputs": [
    {
     "data": {
      "text/plain": [
       "{'name': 'Emamul', 'versity': 'IU', 'department': 'BME'}"
      ]
     },
     "execution_count": 21,
     "metadata": {},
     "output_type": "execute_result"
    }
   ],
   "source": [
    "dic2"
   ]
  },
  {
   "cell_type": "code",
   "execution_count": 44,
   "id": "aaf9313a",
   "metadata": {},
   "outputs": [],
   "source": [
    "#add keys and values \n",
    "dic[\"BME\"]='Math'\n",
    "dic[\"Name\"]=\"Islamic University\""
   ]
  },
  {
   "cell_type": "code",
   "execution_count": 45,
   "id": "a929d426",
   "metadata": {},
   "outputs": [
    {
     "data": {
      "text/plain": [
       "{'name': 'Emamul',\n",
       " 'versity': 'IU',\n",
       " 'department': 'BME',\n",
       " 'BME': 'Math',\n",
       " 'Emamul': 'Anamul',\n",
       " 'dept': 'political Science',\n",
       " 'collage': 'k.c collage',\n",
       " 'Name': 'Islamic University'}"
      ]
     },
     "execution_count": 45,
     "metadata": {},
     "output_type": "execute_result"
    }
   ],
   "source": [
    "dic"
   ]
  },
  {
   "cell_type": "code",
   "execution_count": 28,
   "id": "0d651e28",
   "metadata": {},
   "outputs": [],
   "source": [
    "dic['Emamul']='Anamul'"
   ]
  },
  {
   "cell_type": "code",
   "execution_count": 46,
   "id": "3cfc7b44",
   "metadata": {},
   "outputs": [
    {
     "data": {
      "text/plain": [
       "{'name': 'Emamul',\n",
       " 'versity': 'IU',\n",
       " 'department': 'BME',\n",
       " 'BME': 'Math',\n",
       " 'Emamul': 'Anamul',\n",
       " 'dept': 'political Science',\n",
       " 'collage': 'k.c collage',\n",
       " 'Name': 'Islamic University'}"
      ]
     },
     "execution_count": 46,
     "metadata": {},
     "output_type": "execute_result"
    }
   ],
   "source": [
    "dic"
   ]
  },
  {
   "cell_type": "code",
   "execution_count": 33,
   "id": "23ee1452",
   "metadata": {},
   "outputs": [],
   "source": [
    "dic[\"dept\"]='Economics'"
   ]
  },
  {
   "cell_type": "code",
   "execution_count": 47,
   "id": "322a866c",
   "metadata": {},
   "outputs": [
    {
     "data": {
      "text/plain": [
       "{'name': 'Emamul',\n",
       " 'versity': 'IU',\n",
       " 'department': 'BME',\n",
       " 'BME': 'Math',\n",
       " 'Emamul': 'Anamul',\n",
       " 'dept': 'political Science',\n",
       " 'collage': 'k.c collage',\n",
       " 'Name': 'Islamic University'}"
      ]
     },
     "execution_count": 47,
     "metadata": {},
     "output_type": "execute_result"
    }
   ],
   "source": [
    "dic"
   ]
  },
  {
   "cell_type": "code",
   "execution_count": 35,
   "id": "db33fb11",
   "metadata": {},
   "outputs": [],
   "source": [
    "dic[\"collage\"]=\"k.c collage\""
   ]
  },
  {
   "cell_type": "code",
   "execution_count": 48,
   "id": "3a1cd35d",
   "metadata": {},
   "outputs": [
    {
     "data": {
      "text/plain": [
       "{'name': 'Emamul',\n",
       " 'versity': 'IU',\n",
       " 'department': 'BME',\n",
       " 'BME': 'Math',\n",
       " 'Emamul': 'Anamul',\n",
       " 'dept': 'political Science',\n",
       " 'collage': 'k.c collage',\n",
       " 'Name': 'Islamic University'}"
      ]
     },
     "execution_count": 48,
     "metadata": {},
     "output_type": "execute_result"
    }
   ],
   "source": [
    "dic"
   ]
  },
  {
   "cell_type": "code",
   "execution_count": 10,
   "id": "b00c72c2",
   "metadata": {},
   "outputs": [],
   "source": [
    "#update\n",
    "dic.update({\"dept\":\"EEE\"})"
   ]
  },
  {
   "cell_type": "code",
   "execution_count": 9,
   "id": "047f6536",
   "metadata": {},
   "outputs": [
    {
     "data": {
      "text/plain": [
       "{'name': 'Emamul', 'versity': 'IU', 'department': 'BME', 'dept': 'EEE'}"
      ]
     },
     "execution_count": 9,
     "metadata": {},
     "output_type": "execute_result"
    }
   ],
   "source": [
    "dic"
   ]
  },
  {
   "cell_type": "code",
   "execution_count": 52,
   "id": "5fa5132a",
   "metadata": {},
   "outputs": [
    {
     "data": {
      "text/plain": [
       "('Name', 'Islamic University')"
      ]
     },
     "execution_count": 52,
     "metadata": {},
     "output_type": "execute_result"
    }
   ],
   "source": [
    "#To remove\n",
    "dic.popitem()"
   ]
  },
  {
   "cell_type": "code",
   "execution_count": 53,
   "id": "24ef1b1f",
   "metadata": {},
   "outputs": [
    {
     "data": {
      "text/plain": [
       "{'name': 'Emamul',\n",
       " 'versity': 'IU',\n",
       " 'department': 'BME',\n",
       " 'BME': 'Math',\n",
       " 'Emamul': 'Anamul',\n",
       " 'dept': 'political Science',\n",
       " 'collage': 'k.c collage'}"
      ]
     },
     "execution_count": 53,
     "metadata": {},
     "output_type": "execute_result"
    }
   ],
   "source": [
    "dic"
   ]
  },
  {
   "cell_type": "code",
   "execution_count": 54,
   "id": "095c7190",
   "metadata": {},
   "outputs": [
    {
     "data": {
      "text/plain": [
       "('collage', 'k.c collage')"
      ]
     },
     "execution_count": 54,
     "metadata": {},
     "output_type": "execute_result"
    }
   ],
   "source": [
    "dic.popitem()"
   ]
  },
  {
   "cell_type": "code",
   "execution_count": 55,
   "id": "ed5d7fd7",
   "metadata": {},
   "outputs": [
    {
     "data": {
      "text/plain": [
       "{'name': 'Emamul',\n",
       " 'versity': 'IU',\n",
       " 'department': 'BME',\n",
       " 'BME': 'Math',\n",
       " 'Emamul': 'Anamul',\n",
       " 'dept': 'political Science'}"
      ]
     },
     "execution_count": 55,
     "metadata": {},
     "output_type": "execute_result"
    }
   ],
   "source": [
    "dic"
   ]
  },
  {
   "cell_type": "code",
   "execution_count": 57,
   "id": "f3881f36",
   "metadata": {},
   "outputs": [
    {
     "data": {
      "text/plain": [
       "'IU'"
      ]
     },
     "execution_count": 57,
     "metadata": {},
     "output_type": "execute_result"
    }
   ],
   "source": [
    "dic.pop(\"versity\")"
   ]
  },
  {
   "cell_type": "code",
   "execution_count": 58,
   "id": "c58ca7c2",
   "metadata": {},
   "outputs": [
    {
     "data": {
      "text/plain": [
       "{'name': 'Emamul',\n",
       " 'department': 'BME',\n",
       " 'BME': 'Math',\n",
       " 'Emamul': 'Anamul',\n",
       " 'dept': 'political Science'}"
      ]
     },
     "execution_count": 58,
     "metadata": {},
     "output_type": "execute_result"
    }
   ],
   "source": [
    "dic"
   ]
  },
  {
   "cell_type": "code",
   "execution_count": 60,
   "id": "5ddb76a3",
   "metadata": {},
   "outputs": [
    {
     "data": {
      "text/plain": [
       "'political Science'"
      ]
     },
     "execution_count": 60,
     "metadata": {},
     "output_type": "execute_result"
    }
   ],
   "source": [
    "dic.pop(\"dept\")"
   ]
  },
  {
   "cell_type": "code",
   "execution_count": 61,
   "id": "0316f035",
   "metadata": {},
   "outputs": [
    {
     "data": {
      "text/plain": [
       "{'name': 'Emamul', 'department': 'BME', 'BME': 'Math', 'Emamul': 'Anamul'}"
      ]
     },
     "execution_count": 61,
     "metadata": {},
     "output_type": "execute_result"
    }
   ],
   "source": [
    "dic"
   ]
  },
  {
   "cell_type": "code",
   "execution_count": 70,
   "id": "c65593a2",
   "metadata": {},
   "outputs": [
    {
     "name": "stdout",
     "output_type": "stream",
     "text": [
      "BME\n",
      "Math\n",
      "Anamul\n"
     ]
    }
   ],
   "source": [
    "for x in dic:\n",
    "    print(dic[x])"
   ]
  },
  {
   "cell_type": "code",
   "execution_count": 71,
   "id": "18848bdb",
   "metadata": {},
   "outputs": [
    {
     "data": {
      "text/plain": [
       "{'name': 'Emamul', 'versity': 'IU', 'department': 'BME'}"
      ]
     },
     "execution_count": 71,
     "metadata": {},
     "output_type": "execute_result"
    }
   ],
   "source": [
    "#print all iteam\n",
    " dic={\"name\" : \"Emamul\",\n",
    "      \"versity\" : \"IU\",\n",
    "      \"department\" : \"BME\",\n",
    "} \n",
    "dic"
   ]
  },
  {
   "cell_type": "code",
   "execution_count": 72,
   "id": "f0157c6b",
   "metadata": {},
   "outputs": [
    {
     "name": "stdout",
     "output_type": "stream",
     "text": [
      "name\n",
      "versity\n",
      "department\n"
     ]
    }
   ],
   "source": [
    "for x in dic :\n",
    "    print(x)"
   ]
  },
  {
   "cell_type": "code",
   "execution_count": 74,
   "id": "f2bd406d",
   "metadata": {},
   "outputs": [
    {
     "name": "stdout",
     "output_type": "stream",
     "text": [
      "Emamul\n",
      "IU\n",
      "BME\n"
     ]
    }
   ],
   "source": [
    "for x in dic :\n",
    "    print(dic[x])"
   ]
  },
  {
   "cell_type": "code",
   "execution_count": 2,
   "id": "71745a09",
   "metadata": {},
   "outputs": [
    {
     "data": {
      "text/plain": [
       "[45, 33]"
      ]
     },
     "execution_count": 2,
     "metadata": {},
     "output_type": "execute_result"
    }
   ],
   "source": [
    "marks=[[45,33],[77,78],[49,50],[55,60]]\n",
    "marks[0]"
   ]
  },
  {
   "cell_type": "code",
   "execution_count": 3,
   "id": "f4eaf6a7",
   "metadata": {},
   "outputs": [
    {
     "data": {
      "text/plain": [
       "[77, 78]"
      ]
     },
     "execution_count": 3,
     "metadata": {},
     "output_type": "execute_result"
    }
   ],
   "source": [
    "marks[1]"
   ]
  },
  {
   "cell_type": "code",
   "execution_count": 7,
   "id": "fdf9427f",
   "metadata": {},
   "outputs": [
    {
     "data": {
      "text/plain": [
       "[55, 60]"
      ]
     },
     "execution_count": 7,
     "metadata": {},
     "output_type": "execute_result"
    }
   ],
   "source": [
    "marks[3]"
   ]
  },
  {
   "cell_type": "code",
   "execution_count": 10,
   "id": "85eb89ff",
   "metadata": {},
   "outputs": [
    {
     "data": {
      "text/plain": [
       "dict"
      ]
     },
     "execution_count": 10,
     "metadata": {},
     "output_type": "execute_result"
    }
   ],
   "source": [
    "students_id={1:16,2:33,3:44,5:55}\n",
    "type(students_id)\n"
   ]
  },
  {
   "cell_type": "code",
   "execution_count": 11,
   "id": "c8609966",
   "metadata": {},
   "outputs": [
    {
     "data": {
      "text/plain": [
       "16"
      ]
     },
     "execution_count": 11,
     "metadata": {},
     "output_type": "execute_result"
    }
   ],
   "source": [
    "students_id[1]"
   ]
  },
  {
   "cell_type": "code",
   "execution_count": 14,
   "id": "c3159498",
   "metadata": {},
   "outputs": [
    {
     "data": {
      "text/plain": [
       "33"
      ]
     },
     "execution_count": 14,
     "metadata": {},
     "output_type": "execute_result"
    }
   ],
   "source": [
    "students_id[2]"
   ]
  },
  {
   "cell_type": "code",
   "execution_count": 13,
   "id": "edfe1539",
   "metadata": {},
   "outputs": [
    {
     "name": "stdout",
     "output_type": "stream",
     "text": [
      "marks of roll 4 is 55\n"
     ]
    }
   ],
   "source": [
    "print(\"marks of roll 4 is\", students_id[5])"
   ]
  },
  {
   "cell_type": "code",
   "execution_count": 16,
   "id": "8b22edf4",
   "metadata": {},
   "outputs": [
    {
     "name": "stdout",
     "output_type": "stream",
     "text": [
      "marks of roll 4 is 44\n"
     ]
    }
   ],
   "source": [
    "print(\"marks of roll 4 is\", students_id[3])"
   ]
  },
  {
   "cell_type": "code",
   "execution_count": 19,
   "id": "8312f897",
   "metadata": {},
   "outputs": [
    {
     "data": {
      "text/plain": [
       "16"
      ]
     },
     "execution_count": 19,
     "metadata": {},
     "output_type": "execute_result"
    }
   ],
   "source": [
    "students_id={1000:16,2000:33,3000:44,5000:55}\n",
    "students_id[1000]"
   ]
  },
  {
   "cell_type": "code",
   "execution_count": 20,
   "id": "f7ffbf2f",
   "metadata": {},
   "outputs": [
    {
     "data": {
      "text/plain": [
       "33"
      ]
     },
     "execution_count": 20,
     "metadata": {},
     "output_type": "execute_result"
    }
   ],
   "source": [
    "students_id={1000:16,2000:33,3000:44,5000:55}\n",
    "students_id[2000]"
   ]
  },
  {
   "cell_type": "code",
   "execution_count": 21,
   "id": "51f69fd7",
   "metadata": {},
   "outputs": [
    {
     "data": {
      "text/plain": [
       "44"
      ]
     },
     "execution_count": 21,
     "metadata": {},
     "output_type": "execute_result"
    }
   ],
   "source": [
    "students_id={1000:16,2000:33,3000:44,5000:55}\n",
    "students_id[3000]"
   ]
  },
  {
   "cell_type": "code",
   "execution_count": 22,
   "id": "c174782e",
   "metadata": {},
   "outputs": [
    {
     "data": {
      "text/plain": [
       "16"
      ]
     },
     "execution_count": 22,
     "metadata": {},
     "output_type": "execute_result"
    }
   ],
   "source": [
    "students_id={'emamul':16,'ashik':33,'tanjir':44,'rokon':55}\n",
    "students_id['emamul']"
   ]
  },
  {
   "cell_type": "code",
   "execution_count": 23,
   "id": "0dc3a8f7",
   "metadata": {},
   "outputs": [
    {
     "data": {
      "text/plain": [
       "33"
      ]
     },
     "execution_count": 23,
     "metadata": {},
     "output_type": "execute_result"
    }
   ],
   "source": [
    "students_id={'emamul':16,'ashik':33,'tanjir':44,'rokon':55}\n",
    "students_id['ashik']"
   ]
  },
  {
   "cell_type": "code",
   "execution_count": 24,
   "id": "273e34a4",
   "metadata": {},
   "outputs": [
    {
     "data": {
      "text/plain": [
       "44"
      ]
     },
     "execution_count": 24,
     "metadata": {},
     "output_type": "execute_result"
    }
   ],
   "source": [
    "students_id={'emamul':16,'ashik':33,'tanjir':44,'rokon':55}\n",
    "students_id['tanjir']"
   ]
  },
  {
   "cell_type": "code",
   "execution_count": 25,
   "id": "cf9a1050",
   "metadata": {},
   "outputs": [
    {
     "data": {
      "text/plain": [
       "dict"
      ]
     },
     "execution_count": 25,
     "metadata": {},
     "output_type": "execute_result"
    }
   ],
   "source": [
    "dic={}\n",
    "type(dic)"
   ]
  },
  {
   "cell_type": "code",
   "execution_count": 28,
   "id": "b7417313",
   "metadata": {},
   "outputs": [
    {
     "name": "stdout",
     "output_type": "stream",
     "text": [
      "{1: 'Emamul', 2: 'Akash'}\n"
     ]
    }
   ],
   "source": [
    "dic[1]=\"Emamul\"\n",
    "dic[2]='Akash'\n",
    "print(dic)"
   ]
  },
  {
   "cell_type": "code",
   "execution_count": 15,
   "id": "03d43942",
   "metadata": {},
   "outputs": [
    {
     "data": {
      "text/plain": [
       "dict"
      ]
     },
     "execution_count": 15,
     "metadata": {},
     "output_type": "execute_result"
    }
   ],
   "source": [
    "dic={'Emamul':{'CSE': 45,'BME':50},'Tanjir':{'CSE':50,'BME':55},'Ashik':{'CSE':80,'BME':85}}\n",
    "type(dic)"
   ]
  },
  {
   "cell_type": "code",
   "execution_count": 16,
   "id": "23d03fca",
   "metadata": {},
   "outputs": [
    {
     "data": {
      "text/plain": [
       "{'CSE': 45, 'BME': 50}"
      ]
     },
     "execution_count": 16,
     "metadata": {},
     "output_type": "execute_result"
    }
   ],
   "source": [
    "dic['Emamul']"
   ]
  },
  {
   "cell_type": "code",
   "execution_count": 18,
   "id": "76bbb5fe",
   "metadata": {},
   "outputs": [
    {
     "name": "stdout",
     "output_type": "stream",
     "text": [
      "45\n"
     ]
    }
   ],
   "source": [
    "print(dic['Emamul']['CSE'])"
   ]
  },
  {
   "cell_type": "code",
   "execution_count": 24,
   "id": "b8303f36",
   "metadata": {},
   "outputs": [
    {
     "name": "stdout",
     "output_type": "stream",
     "text": [
      "50\n"
     ]
    }
   ],
   "source": [
    "print(dic['Tanjir']['CSE'])"
   ]
  },
  {
   "cell_type": "code",
   "execution_count": 1,
   "id": "7548d4fb",
   "metadata": {},
   "outputs": [
    {
     "data": {
      "text/plain": [
       "{'1929001': {'Biomaterials': 45,\n",
       "  'statistics': 50,\n",
       "  'Cell and Tissue Engineering': 55,\n",
       "  'Coummnication Engineering': 50},\n",
       " '1929002': {'Biomaterials': 40,\n",
       "  'statistics': 56,\n",
       "  'Cell and Tissue Engineering': 59,\n",
       "  'Coummnication Engineering': 58},\n",
       " '1929003': {'Biomaterials': 45,\n",
       "  'statistics': 54,\n",
       "  'Cell and Tissue Engineering': 53,\n",
       "  'Coummnication Engineering': 52},\n",
       " '1929004': {'Biomaterials': 55,\n",
       "  'statistics': 58,\n",
       "  'Cell and Tissue Engineering': 50,\n",
       "  'Coummnication Engineering': 56},\n",
       " '1929005': {'Biomaterials': 45,\n",
       "  'statistics': 57,\n",
       "  'Cell and Tissue Engineering': 75,\n",
       "  'Coummnication Engineering': 90}}"
      ]
     },
     "execution_count": 1,
     "metadata": {},
     "output_type": "execute_result"
    }
   ],
   "source": [
    "dic={\n",
    "       '1929001':{'Biomaterials':45,'statistics':50,'Cell and Tissue Engineering':55,'Coummnication Engineering':50},\n",
    "       '1929002':{'Biomaterials':40,'statistics':56,'Cell and Tissue Engineering':59,'Coummnication Engineering':58},\n",
    "       '1929003':{'Biomaterials':45,'statistics':54,'Cell and Tissue Engineering':53,'Coummnication Engineering':52},\n",
    "       '1929004':{'Biomaterials':55,'statistics':58,'Cell and Tissue Engineering':50,'Coummnication Engineering':56},\n",
    "       '1929005':{'Biomaterials':45,'statistics':57,'Cell and Tissue Engineering':75,'Coummnication Engineering':90}\n",
    "      }\n",
    "dic"
   ]
  },
  {
   "cell_type": "code",
   "execution_count": 41,
   "id": "686b6ed2",
   "metadata": {},
   "outputs": [
    {
     "data": {
      "text/plain": [
       "{'Biomaterials': 45,\n",
       " 'statistics': 50,\n",
       " 'Cell and Tissue Engineering': 55,\n",
       " 'Coummnication Engineering': 50}"
      ]
     },
     "execution_count": 41,
     "metadata": {},
     "output_type": "execute_result"
    }
   ],
   "source": [
    "dic['1929001']"
   ]
  },
  {
   "cell_type": "code",
   "execution_count": 46,
   "id": "ddf3bf5d",
   "metadata": {},
   "outputs": [
    {
     "name": "stdout",
     "output_type": "stream",
     "text": [
      "45\n",
      "55\n",
      "50\n",
      "50\n"
     ]
    }
   ],
   "source": [
    "print(dic['1929001']['Biomaterials'])\n",
    "print(dic['1929001']['Cell and Tissue Engineering'])\n",
    "print(dic['1929001']['Coummnication Engineering'])\n",
    "print(dic['1929001']['statistics'])"
   ]
  },
  {
   "cell_type": "code",
   "execution_count": 49,
   "id": "a7c8c5c1",
   "metadata": {},
   "outputs": [
    {
     "name": "stdout",
     "output_type": "stream",
     "text": [
      "45\n",
      "55\n",
      "50\n",
      "50\n"
     ]
    }
   ],
   "source": [
    "print(dic['1929001']['Biomaterials'])\n",
    "print(dic['1929001']['Cell and Tissue Engineering'])\n",
    "print(dic['1929001']['Coummnication Engineering'])\n",
    "print(dic['1929001']['statistics'])"
   ]
  },
  {
   "cell_type": "code",
   "execution_count": 8,
   "id": "b7cb964f",
   "metadata": {},
   "outputs": [
    {
     "name": "stdout",
     "output_type": "stream",
     "text": [
      "{'Khulna': {'District': 10, 'Upazilla': 59, 'Council': 270}, 'Barisal': {'District': 6, 'Upazilla': 39, 'Council': 333}, 'Chittagong': {'District': 11, 'Upazilla': 97, 'Council': 336}, 'Dhaka': {'District': 13, 'Upazilla': 93, 'Council': 1833}, 'Mymensingh': {'District': 4, 'Upazilla': 34, 'Council': 3500}, 'Rajshahi': {'District': 8, 'Upazilla': 70, 'Council': 558}, 'Rangpur': {'District': 8, 'Upazilla': 58, 'Council': 536}, 'Sylhet': {'District': 4, 'Upazilla': 38, 'Council': 334}}\n"
     ]
    }
   ],
   "source": [
    "bd_division_info={}\n",
    "bd_division_info[\"Khulna\"]={\"District\":10,\"Upazilla\":59,\"Council\":270}\n",
    "bd_division_info[\"Barisal\"]={\"District\":6,\"Upazilla\":39,\"Council\":333}\n",
    "bd_division_info[\"Chittagong\"]={\"District\":11,\"Upazilla\":97,\"Council\":336}\n",
    "bd_division_info[\"Dhaka\"]={\"District\":13,\"Upazilla\":93,\"Council\":1833}\n",
    "bd_division_info[\"Mymensingh\"]={\"District\":4,\"Upazilla\":34,\"Council\":3500}\n",
    "bd_division_info[\"Rajshahi\"]={\"District\":8,\"Upazilla\":70,\"Council\":558}\n",
    "bd_division_info[\"Rangpur\"]={\"District\":8,\"Upazilla\":58,\"Council\":536}\n",
    "bd_division_info[\"Sylhet\"]={\"District\":4,\"Upazilla\":38,\"Council\":334}\n",
    "\n",
    "\n",
    "print(bd_division_info)\n"
   ]
  },
  {
   "cell_type": "code",
   "execution_count": 11,
   "id": "cae0ffcc",
   "metadata": {},
   "outputs": [
    {
     "name": "stdout",
     "output_type": "stream",
     "text": [
      "{'Khulna': {'District': 10, 'Upazilla': 59, 'Council': 270}, 'Barisal': {'District': 6, 'Upazilla': 39, 'Council': 333}, 'Chittagong': {'District': 11, 'Upazilla': 97, 'Council': 336}, 'Dhaka': {'District': 13, 'Upazilla': 93, 'Council': 1833}, 'Mymensingh': {'District': 4, 'Upazilla': 34, 'Council': 3500}, 'Rajshahi': {'District': 8, 'Upazilla': 70, 'Council': 558}, 'Rangpur': {'District': 8, 'Upazilla': 58, 'Council': 536}, 'Sylhet': {'District': 4, 'Upazilla': 38, 'Council': 334}}\n"
     ]
    }
   ],
   "source": [
    "bd_division_info={}\n",
    "bd_division_info[\"Khulna\"]={\"District\":10,\"Upazilla\":59,\"Council\":270}\n",
    "bd_division_info[\"Barisal\"]={\"District\":6,\"Upazilla\":39,\"Council\":333}\n",
    "bd_division_info[\"Chittagong\"]={\"District\":11,\"Upazilla\":97,\"Council\":336}\n",
    "bd_division_info[\"Dhaka\"]={\"District\":13,\"Upazilla\":93,\"Council\":1833}\n",
    "bd_division_info[\"Mymensingh\"]={\"District\":4,\"Upazilla\":34,\"Council\":3500}\n",
    "bd_division_info[\"Rajshahi\"]={\"District\":8,\"Upazilla\":70,\"Council\":558}\n",
    "bd_division_info[\"Rangpur\"]={\"District\":8,\"Upazilla\":58,\"Council\":536}\n",
    "bd_division_info[\"Sylhet\"]={\"District\":4,\"Upazilla\":38,\"Council\":334}\n",
    "\n",
    "\n",
    "print(bd_division_info)\n"
   ]
  },
  {
   "cell_type": "code",
   "execution_count": 27,
   "id": "178ef430",
   "metadata": {},
   "outputs": [
    {
     "data": {
      "text/plain": [
       "dict_keys(['Khulna', 'Barisal', 'Chittagong', 'Dhaka', 'Mymensingh', 'Rajshahi', 'Rangpur', 'Sylhet'])"
      ]
     },
     "execution_count": 27,
     "metadata": {},
     "output_type": "execute_result"
    }
   ],
   "source": [
    "bd_division_info.keys()"
   ]
  },
  {
   "cell_type": "code",
   "execution_count": 28,
   "id": "d2555fce",
   "metadata": {},
   "outputs": [
    {
     "data": {
      "text/plain": [
       "dict_values([{'District': 10, 'Upazilla': 59, 'Council': 270}, {'District': 6, 'Upazilla': 39, 'Council': 333}, {'District': 11, 'Upazilla': 97, 'Council': 336}, {'District': 13, 'Upazilla': 93, 'Council': 1833}, {'District': 4, 'Upazilla': 34, 'Council': 3500}, {'District': 8, 'Upazilla': 70, 'Council': 558}, {'District': 8, 'Upazilla': 58, 'Council': 536}, {'District': 4, 'Upazilla': 38, 'Council': 334}])"
      ]
     },
     "execution_count": 28,
     "metadata": {},
     "output_type": "execute_result"
    }
   ],
   "source": [
    "bd_division_info.values()"
   ]
  },
  {
   "cell_type": "code",
   "execution_count": 16,
   "id": "58c5f60e",
   "metadata": {},
   "outputs": [
    {
     "name": "stdout",
     "output_type": "stream",
     "text": [
      "{'District': 10, 'Upazilla': 59, 'Council': 270}\n"
     ]
    }
   ],
   "source": [
    "bd_info={\n",
    "    \n",
    "    \"Khulna\":{\"District\":10,\"Upazilla\":59,\"Council\":270},\n",
    "    \"Barisal\":{\"District\":6,\"Upazilla\":39,\"Council\":333},\n",
    "    \"Chittagong\":{\"District\":11,\"Upazilla\":97,\"Council\":336},\n",
    "    \"Dhaka\":{\"District\":13,\"Upazilla\":93,\"Council\":1833},\n",
    "    \"Mymensingh\":{\"District\":4,\"Upazilla\":34,\"Council\":3500},\n",
    "    \"Rajshahi\":{\"District\":8,\"Upazilla\":70,\"Council\":558},\n",
    "    \"Rangpur\":{\"District\":8,\"Upazilla\":58,\"Council\":536},\n",
    "    \"Sylhet\":{\"District\":4,\"Upazilla\":38,\"Council\":334} \n",
    "    \n",
    "    \n",
    "        }\n",
    "\n",
    "print(bd_info['Khulna'])\n"
   ]
  },
  {
   "cell_type": "code",
   "execution_count": 17,
   "id": "67f3cdb1",
   "metadata": {},
   "outputs": [
    {
     "name": "stdout",
     "output_type": "stream",
     "text": [
      "{'Khulna': {'District': 10, 'Upazilla': 59, 'Council': 270}, 'Barisal': {'District': 6, 'Upazilla': 39, 'Council': 333}, 'Chittagong': {'District': 11, 'Upazilla': 97, 'Council': 336}, 'Dhaka': {'District': 13, 'Upazilla': 93, 'Council': 1833}, 'Mymensingh': {'District': 4, 'Upazilla': 34, 'Council': 3500}, 'Rajshahi': {'District': 8, 'Upazilla': 70, 'Council': 558}, 'Rangpur': {'District': 8, 'Upazilla': 58, 'Council': 536}, 'Sylhet': {'District': 4, 'Upazilla': 38, 'Council': 334}}\n"
     ]
    }
   ],
   "source": [
    "bd_info={\n",
    "    \n",
    "    \"Khulna\":{\"District\":10,\"Upazilla\":59,\"Council\":270},\n",
    "    \"Barisal\":{\"District\":6,\"Upazilla\":39,\"Council\":333},\n",
    "    \"Chittagong\":{\"District\":11,\"Upazilla\":97,\"Council\":336},\n",
    "    \"Dhaka\":{\"District\":13,\"Upazilla\":93,\"Council\":1833},\n",
    "    \"Mymensingh\":{\"District\":4,\"Upazilla\":34,\"Council\":3500},\n",
    "    \"Rajshahi\":{\"District\":8,\"Upazilla\":70,\"Council\":558},\n",
    "    \"Rangpur\":{\"District\":8,\"Upazilla\":58,\"Council\":536},\n",
    "    \"Sylhet\":{\"District\":4,\"Upazilla\":38,\"Council\":334} \n",
    "    \n",
    "    \n",
    "        }\n",
    "\n",
    "print(bd_info)"
   ]
  },
  {
   "cell_type": "code",
   "execution_count": 30,
   "id": "ce273e01",
   "metadata": {},
   "outputs": [
    {
     "name": "stdout",
     "output_type": "stream",
     "text": [
      "division Khulna\n",
      "division Barisal\n",
      "division Chittagong\n",
      "division Dhaka\n",
      "division Mymensingh\n",
      "division Rajshahi\n",
      "division Rangpur\n",
      "division Sylhet\n"
     ]
    }
   ],
   "source": [
    "\n",
    "for divisions in bd_info:\n",
    "    print('division' , divisions)"
   ]
  },
  {
   "cell_type": "code",
   "execution_count": 35,
   "id": "2a5487c9",
   "metadata": {},
   "outputs": [
    {
     "name": "stderr",
     "output_type": "stream",
     "text": [
      "<>:2: SyntaxWarning: list indices must be integers or slices, not str; perhaps you missed a comma?\n",
      "<>:2: SyntaxWarning: list indices must be integers or slices, not str; perhaps you missed a comma?\n",
      "C:\\Users\\HP\\AppData\\Local\\Temp\\ipykernel_20736\\93774099.py:2: SyntaxWarning: list indices must be integers or slices, not str; perhaps you missed a comma?\n",
      "  print(divisions,'Upazilla',[bd_info][\"Upazilla\"])\n",
      "C:\\Users\\HP\\AppData\\Local\\Temp\\ipykernel_20736\\93774099.py:2: SyntaxWarning: list indices must be integers or slices, not str; perhaps you missed a comma?\n",
      "  print(divisions,'Upazilla',[bd_info][\"Upazilla\"])\n",
      "C:\\Users\\HP\\AppData\\Local\\Temp\\ipykernel_20736\\93774099.py:2: SyntaxWarning: list indices must be integers or slices, not str; perhaps you missed a comma?\n",
      "  print(divisions,'Upazilla',[bd_info][\"Upazilla\"])\n"
     ]
    },
    {
     "ename": "TypeError",
     "evalue": "list indices must be integers or slices, not str",
     "output_type": "error",
     "traceback": [
      "\u001b[1;31m---------------------------------------------------------------------------\u001b[0m",
      "\u001b[1;31mTypeError\u001b[0m                                 Traceback (most recent call last)",
      "Input \u001b[1;32mIn [35]\u001b[0m, in \u001b[0;36m<cell line: 1>\u001b[1;34m()\u001b[0m\n\u001b[0;32m      1\u001b[0m \u001b[38;5;28;01mfor\u001b[39;00m divisions \u001b[38;5;129;01min\u001b[39;00m bd_info:\n\u001b[1;32m----> 2\u001b[0m     \u001b[38;5;28mprint\u001b[39m(divisions,\u001b[38;5;124m'\u001b[39m\u001b[38;5;124mUpazilla\u001b[39m\u001b[38;5;124m'\u001b[39m,\u001b[43m[\u001b[49m\u001b[43mbd_info\u001b[49m\u001b[43m]\u001b[49m\u001b[43m[\u001b[49m\u001b[38;5;124;43m\"\u001b[39;49m\u001b[38;5;124;43mUpazilla\u001b[39;49m\u001b[38;5;124;43m\"\u001b[39;49m\u001b[43m]\u001b[49m)\n",
      "\u001b[1;31mTypeError\u001b[0m: list indices must be integers or slices, not str"
     ]
    }
   ],
   "source": [
    "#for divisions in bd_info:\n",
    "    print(divisions,'Upazilla',[bd_info][\"Upazilla\"])"
   ]
  },
  {
   "cell_type": "code",
   "execution_count": 18,
   "id": "db5997f4",
   "metadata": {},
   "outputs": [
    {
     "name": "stdout",
     "output_type": "stream",
     "text": [
      "{'District': 8, 'Upazilla': 70, 'Council': 558}\n"
     ]
    }
   ],
   "source": [
    "print(bd_info['Rajshahi'])"
   ]
  },
  {
   "cell_type": "code",
   "execution_count": 19,
   "id": "f02a2141",
   "metadata": {},
   "outputs": [
    {
     "name": "stdout",
     "output_type": "stream",
     "text": [
      "8\n"
     ]
    }
   ],
   "source": [
    "print(bd_info['Rajshahi']['District'])"
   ]
  },
  {
   "cell_type": "code",
   "execution_count": 20,
   "id": "af684a52",
   "metadata": {},
   "outputs": [
    {
     "name": "stdout",
     "output_type": "stream",
     "text": [
      "10\n"
     ]
    }
   ],
   "source": [
    "print(bd_info['Khulna']['District'])"
   ]
  },
  {
   "cell_type": "code",
   "execution_count": 22,
   "id": "4b2cb8df",
   "metadata": {},
   "outputs": [
    {
     "name": "stdout",
     "output_type": "stream",
     "text": [
      "59\n"
     ]
    }
   ],
   "source": [
    "print(bd_info['Khulna']['Upazilla'])"
   ]
  },
  {
   "cell_type": "code",
   "execution_count": 23,
   "id": "e62c3a7f",
   "metadata": {},
   "outputs": [
    {
     "name": "stdout",
     "output_type": "stream",
     "text": [
      "270\n"
     ]
    }
   ],
   "source": [
    "print(bd_info['Khulna']['Council'])"
   ]
  },
  {
   "cell_type": "code",
   "execution_count": 24,
   "id": "2cb74b3f",
   "metadata": {},
   "outputs": [
    {
     "data": {
      "text/plain": [
       "dict_keys(['Khulna', 'Barisal', 'Chittagong', 'Dhaka', 'Mymensingh', 'Rajshahi', 'Rangpur', 'Sylhet'])"
      ]
     },
     "execution_count": 24,
     "metadata": {},
     "output_type": "execute_result"
    }
   ],
   "source": [
    "bd_info.keys()"
   ]
  },
  {
   "cell_type": "markdown",
   "id": "8c23219d",
   "metadata": {},
   "source": [
    "# 'Chapter Ten,Funny program'"
   ]
  },
  {
   "cell_type": "code",
   "execution_count": 5,
   "id": "9766e764",
   "metadata": {},
   "outputs": [
    {
     "data": {
      "text/plain": [
       "0.9793694468696431"
      ]
     },
     "execution_count": 5,
     "metadata": {},
     "output_type": "execute_result"
    }
   ],
   "source": [
    "import random\n",
    "random.random()"
   ]
  },
  {
   "cell_type": "code",
   "execution_count": 37,
   "id": "52fc2eb8",
   "metadata": {},
   "outputs": [
    {
     "data": {
      "text/plain": [
       "0.4650540229457879"
      ]
     },
     "execution_count": 37,
     "metadata": {},
     "output_type": "execute_result"
    }
   ],
   "source": [
    "import random\n",
    "random.random()"
   ]
  },
  {
   "cell_type": "code",
   "execution_count": 38,
   "id": "2d4ef2d2",
   "metadata": {},
   "outputs": [
    {
     "data": {
      "text/plain": [
       "0.28469700657635766"
      ]
     },
     "execution_count": 38,
     "metadata": {},
     "output_type": "execute_result"
    }
   ],
   "source": [
    "import random\n",
    "random.random()"
   ]
  },
  {
   "cell_type": "code",
   "execution_count": 39,
   "id": "eb1c99d8",
   "metadata": {},
   "outputs": [
    {
     "data": {
      "text/plain": [
       "41"
      ]
     },
     "execution_count": 39,
     "metadata": {},
     "output_type": "execute_result"
    }
   ],
   "source": [
    "import random\n",
    "random.randint(12,45)"
   ]
  },
  {
   "cell_type": "code",
   "execution_count": 9,
   "id": "64cb3cf0",
   "metadata": {},
   "outputs": [
    {
     "ename": "AttributeError",
     "evalue": "module 'numpy.random' has no attribute 'random_intger'",
     "output_type": "error",
     "traceback": [
      "\u001b[1;31m---------------------------------------------------------------------------\u001b[0m",
      "\u001b[1;31mAttributeError\u001b[0m                            Traceback (most recent call last)",
      "Input \u001b[1;32mIn [9]\u001b[0m, in \u001b[0;36m<cell line: 3>\u001b[1;34m()\u001b[0m\n\u001b[0;32m      1\u001b[0m \u001b[38;5;28;01mimport\u001b[39;00m \u001b[38;5;21;01mrandom\u001b[39;00m\n\u001b[0;32m      2\u001b[0m \u001b[38;5;28;01mimport\u001b[39;00m \u001b[38;5;21;01mnumpy\u001b[39;00m \u001b[38;5;28;01mas\u001b[39;00m \u001b[38;5;21;01mnp\u001b[39;00m\n\u001b[1;32m----> 3\u001b[0m x \u001b[38;5;241m=\u001b[39m \u001b[43mnp\u001b[49m\u001b[38;5;241;43m.\u001b[39;49m\u001b[43mrandom\u001b[49m\u001b[38;5;241;43m.\u001b[39;49m\u001b[43mrandom_intger\u001b[49m(\u001b[38;5;241m2\u001b[39m, \u001b[38;5;241m9\u001b[39m)\n\u001b[0;32m      4\u001b[0m \u001b[38;5;28mprint\u001b[39m(x)\n\u001b[0;32m      5\u001b[0m z\u001b[38;5;241m=\u001b[39mrandom\u001b[38;5;241m.\u001b[39mrandint(\u001b[38;5;241m1000\u001b[39m,\u001b[38;5;241m10000\u001b[39m)\n",
      "\u001b[1;31mAttributeError\u001b[0m: module 'numpy.random' has no attribute 'random_intger'"
     ]
    }
   ],
   "source": [
    "import random\n",
    "import numpy as np\n",
    "x = np.random.random_intger(2, 9)\n",
    "print(x)\n",
    "z=random.randint(1000,10000)\n"
   ]
  },
  {
   "cell_type": "code",
   "execution_count": 42,
   "id": "75340d15",
   "metadata": {},
   "outputs": [
    {
     "data": {
      "text/plain": [
       "(0.00,0.00)"
      ]
     },
     "execution_count": 42,
     "metadata": {},
     "output_type": "execute_result"
    }
   ],
   "source": [
    "import turtle\n",
    "turtle.position()"
   ]
  },
  {
   "cell_type": "code",
   "execution_count": 46,
   "id": "f86aca20",
   "metadata": {},
   "outputs": [
    {
     "data": {
      "text/plain": [
       "(-0.00,100.00)"
      ]
     },
     "execution_count": 46,
     "metadata": {},
     "output_type": "execute_result"
    }
   ],
   "source": [
    "import turtle\n",
    "turtle.position()\n",
    "turtle.forward(100)\n",
    "turtle.left(90)\n",
    "turtle.forward(100)\n",
    "turtle.position()"
   ]
  },
  {
   "cell_type": "code",
   "execution_count": null,
   "id": "70a02553",
   "metadata": {},
   "outputs": [],
   "source": [
    "import turtle\n",
    "import random\n",
    "for i in range(20):\n",
    "    x=random.randint(-200,200)\n",
    "    y=random.randint(-200,200)\n",
    "    turtle.setposition(x,y)\n",
    "    turtle.dot()\n",
    "turtle.done()"
   ]
  },
  {
   "cell_type": "code",
   "execution_count": null,
   "id": "a60cace9",
   "metadata": {},
   "outputs": [],
   "source": [
    "import turtle\n",
    "import random\n",
    "for i in range(20):\n",
    "    x=random.randint(-200,200)\n",
    "    y=random.randint(-200,200)\n",
    "    turtle.setposition(x,y)\n",
    "    turtle.dot()\n",
    "turtle.done()"
   ]
  },
  {
   "cell_type": "code",
   "execution_count": 53,
   "id": "17868b64",
   "metadata": {},
   "outputs": [],
   "source": [
    "import turtle\n",
    "turtle.shape(\"turtle\")\n",
    "turtle.dot()\n",
    "turtle.penup()\n",
    "for i in range(4):\n",
    "    turtle.forward(100)\n",
    "    turtle.dot()\n",
    "    turtle.left(90)\n",
    "turtle.exitonclick()\n"
   ]
  },
  {
   "cell_type": "markdown",
   "id": "37c613b8",
   "metadata": {},
   "source": [
    "# 'Find Number'"
   ]
  },
  {
   "cell_type": "code",
   "execution_count": 6,
   "id": "5de16307",
   "metadata": {},
   "outputs": [
    {
     "data": {
      "text/plain": [
       "2.5"
      ]
     },
     "execution_count": 6,
     "metadata": {},
     "output_type": "execute_result"
    }
   ],
   "source": [
    "5/2"
   ]
  },
  {
   "cell_type": "code",
   "execution_count": 4,
   "id": "8da456c7",
   "metadata": {},
   "outputs": [
    {
     "name": "stderr",
     "output_type": "stream",
     "text": [
      "C:\\Users\\HP\\AppData\\Local\\Temp\\ipykernel_12732\\796170318.py:2: DeprecationWarning: This function is deprecated. Please call randint(1, 5 + 1) instead\n",
      "  x = np.random.random_integers(5, size=(5,))\n"
     ]
    },
    {
     "data": {
      "text/plain": [
       "array([4, 3, 3, 1, 3])"
      ]
     },
     "execution_count": 4,
     "metadata": {},
     "output_type": "execute_result"
    }
   ],
   "source": [
    "import numpy as np\n",
    "x = np.random.random_integers(5, size=(5,))\n",
    "x"
   ]
  },
  {
   "cell_type": "markdown",
   "id": "5204042d",
   "metadata": {},
   "source": [
    "# 'Prime Number'"
   ]
  },
  {
   "cell_type": "code",
   "execution_count": 3,
   "id": "d1c9f3b5",
   "metadata": {},
   "outputs": [
    {
     "name": "stdout",
     "output_type": "stream",
     "text": [
      "please enter a number7\n",
      "your number is prime\n",
      "your number is prime\n",
      "your number is prime\n",
      "your number is prime\n",
      "your number is prime\n"
     ]
    }
   ],
   "source": [
    "num=input(\"please enter a number\")\n",
    "num=int(num)\n",
    "for i in range(2,num):\n",
    "    if num%i==0:\n",
    "        print('Your number is not prime')\n",
    "    else:\n",
    "        print('your number is prime')"
   ]
  },
  {
   "cell_type": "code",
   "execution_count": 1,
   "id": "944e2748",
   "metadata": {},
   "outputs": [
    {
     "name": "stdout",
     "output_type": "stream",
     "text": [
      "please enter a number9\n",
      "Your number is not prime\n"
     ]
    }
   ],
   "source": [
    "num=input(\"please enter a number\")\n",
    "num=int(num)+\n",
    "\n",
    "for i in range(2,num):\n",
    "    if num%i==0:\n",
    "        print('Your number is not prime')\n",
    "        break\n",
    "else:\n",
    "    print('your number is prime')"
   ]
  },
  {
   "cell_type": "code",
   "execution_count": 6,
   "id": "cd99e219",
   "metadata": {},
   "outputs": [
    {
     "name": "stdout",
     "output_type": "stream",
     "text": [
      "please enter a number8\n",
      "Your number is not prime\n"
     ]
    }
   ],
   "source": [
    "num=input(\"please enter a number\")\n",
    "num=int(num)\n",
    "for i in range(2,num):\n",
    "    if num%i==0:\n",
    "        print('Your number is not prime')\n",
    "        break\n",
    "else:\n",
    "    print('your number is prime')"
   ]
  },
  {
   "cell_type": "code",
   "execution_count": 7,
   "id": "b864a041",
   "metadata": {},
   "outputs": [
    {
     "name": "stdout",
     "output_type": "stream",
     "text": [
      "please enter a number2\n",
      "your number is prime\n"
     ]
    }
   ],
   "source": [
    "num=input(\"please enter a number\")\n",
    "num=int(num)\n",
    "for i in range(2,num):\n",
    "    if num%i==0:\n",
    "        print('Your number is not prime')\n",
    "        break\n",
    "else:\n",
    "    print('your number is prime')"
   ]
  },
  {
   "cell_type": "code",
   "execution_count": 5,
   "id": "9843f70b",
   "metadata": {},
   "outputs": [
    {
     "name": "stdout",
     "output_type": "stream",
     "text": [
      "please enter a number1\n",
      "your number is prime\n"
     ]
    }
   ],
   "source": [
    "num=input(\"please enter a number\")\n",
    "num=int(num)\n",
    "for i in range(2,num):\n",
    "    if num%i==0:\n",
    "        print('Your number is not prime')\n",
    "        break\n",
    "else:\n",
    "    print('your number is prime')#problem:According to this program 1 is prime number.Buit 1 is not a prime number."
   ]
  },
  {
   "cell_type": "code",
   "execution_count": 16,
   "id": "cf480734",
   "metadata": {},
   "outputs": [
    {
     "name": "stdout",
     "output_type": "stream",
     "text": [
      "please enter a number51\n",
      "Your number is not prime\n"
     ]
    }
   ],
   "source": [
    "num=int(input(\"please enter a number\"))\n",
    "for i in range(2,num):\n",
    "    if num%i==0:\n",
    "        print(\"Your number is not prime\")\n",
    "        break\n",
    "else:\n",
    "    print(\"Your number is a prime number\")"
   ]
  },
  {
   "cell_type": "code",
   "execution_count": 13,
   "id": "3259833c",
   "metadata": {},
   "outputs": [
    {
     "name": "stdout",
     "output_type": "stream",
     "text": [
      "please enter a number77\n",
      "Your number is not prime\n"
     ]
    }
   ],
   "source": [
    "num=int(input(\"please enter a number\"))\n",
    "for i in range(2,num):\n",
    "    if num%i==0:\n",
    "        print(\"Your number is not prime\")\n",
    "        break\n",
    "else:\n",
    "    print(\"Your number is a prime number\")"
   ]
  },
  {
   "cell_type": "code",
   "execution_count": 14,
   "id": "8f3b5eb1",
   "metadata": {},
   "outputs": [
    {
     "name": "stdout",
     "output_type": "stream",
     "text": [
      "please enter a number45\n",
      "Your number is not prime\n"
     ]
    }
   ],
   "source": [
    "num=int(input(\"please enter a number\"))\n",
    "for i in range(2,num):\n",
    "    if num%i==0:\n",
    "        print(\"Your number is not prime\")\n",
    "        break\n",
    "else:\n",
    "    print(\"Your number is a prime number\")"
   ]
  },
  {
   "cell_type": "code",
   "execution_count": 15,
   "id": "be3237a5",
   "metadata": {},
   "outputs": [
    {
     "name": "stdout",
     "output_type": "stream",
     "text": [
      "please enter a number51\n",
      "Your number is not prime\n"
     ]
    }
   ],
   "source": [
    "num=int(input(\"please enter a number\"))\n",
    "for i in range(2,num):\n",
    "    if num%i==0:\n",
    "        print(\"Your number is not prime\")\n",
    "        break\n",
    "else:\n",
    "    print(\"Your number is a prime number\")"
   ]
  },
  {
   "cell_type": "code",
   "execution_count": 17,
   "id": "d506506b",
   "metadata": {},
   "outputs": [
    {
     "name": "stdout",
     "output_type": "stream",
     "text": [
      "please enter a number17\n",
      "Your number is a prime number\n"
     ]
    }
   ],
   "source": [
    "num=int(input(\"please enter a number\"))\n",
    "for i in range(2,num):\n",
    "    if num%i==0:\n",
    "        print(\"Your number is not prime\")\n",
    "        break\n",
    "else:\n",
    "    print(\"Your number is a prime number\")"
   ]
  },
  {
   "cell_type": "code",
   "execution_count": 18,
   "id": "fc66716c",
   "metadata": {},
   "outputs": [
    {
     "name": "stdout",
     "output_type": "stream",
     "text": [
      "please enter a number69\n",
      "Your number is not prime\n"
     ]
    }
   ],
   "source": [
    "num=int(input(\"please enter a number\"))\n",
    "for i in range(2,num):\n",
    "    if num%i==0:\n",
    "        print(\"Your number is not prime\")\n",
    "        break\n",
    "else:\n",
    "    print(\"Your number is a prime number\")"
   ]
  },
  {
   "cell_type": "code",
   "execution_count": 19,
   "id": "58a674e9",
   "metadata": {},
   "outputs": [
    {
     "name": "stdout",
     "output_type": "stream",
     "text": [
      "please enter a number91\n",
      "Your number is not prime\n"
     ]
    }
   ],
   "source": [
    "num=int(input(\"please enter a number\"))\n",
    "for i in range(2,num):\n",
    "    if num%i==0:\n",
    "        print(\"Your number is not prime\")\n",
    "        break\n",
    "else:\n",
    "    print(\"Your number is a prime number\")"
   ]
  },
  {
   "cell_type": "code",
   "execution_count": 22,
   "id": "bad632f7",
   "metadata": {},
   "outputs": [
    {
     "ename": "IndentationError",
     "evalue": "expected an indented block (4018191565.py, line 8)",
     "output_type": "error",
     "traceback": [
      "\u001b[1;36m  Input \u001b[1;32mIn [22]\u001b[1;36m\u001b[0m\n\u001b[1;33m    turtle.end_fill ()\u001b[0m\n\u001b[1;37m                      ^\u001b[0m\n\u001b[1;31mIndentationError\u001b[0m\u001b[1;31m:\u001b[0m expected an indented block\n"
     ]
    }
   ],
   "source": [
    "import turtle\n",
    "turtle.color('red','yellow')\n",
    "turtle.begin_fill()\n",
    "while True:\n",
    "    turtle.forward(200)\n",
    "    turtle.left(170)\n",
    "    if abs(turtle.position())<1:\n",
    "turtle.end_fill()\n",
    "turtle.done"
   ]
  },
  {
   "cell_type": "markdown",
   "id": "2ab92d32",
   "metadata": {},
   "source": [
    "# \"Fibonacci Number\""
   ]
  },
  {
   "cell_type": "code",
   "execution_count": 11,
   "id": "e7b32345",
   "metadata": {},
   "outputs": [
    {
     "name": "stdout",
     "output_type": "stream",
     "text": [
      "0\n",
      "1\n",
      "1\n",
      "2\n",
      "3\n",
      "5\n",
      "8\n",
      "13\n",
      "21\n",
      "34\n"
     ]
    }
   ],
   "source": [
    "# fibonacci series e 0,1 constant\n",
    "#0,1,2,3,5,8,13........\n",
    "def fibo(n):\n",
    "    a=0\n",
    "    b=1\n",
    "    print(0)\n",
    "    print(1)\n",
    "    for i in range(2,n):\n",
    "        c=a+b\n",
    "        a=b\n",
    "        b=c\n",
    "        print(c)\n",
    "fibo(10)    "
   ]
  },
  {
   "cell_type": "code",
   "execution_count": 14,
   "id": "9fe26b34",
   "metadata": {},
   "outputs": [
    {
     "name": "stdout",
     "output_type": "stream",
     "text": [
      "1\n",
      "1\n",
      "2\n",
      "3\n",
      "5\n",
      "8\n",
      "13\n",
      "21\n",
      "34\n",
      "55\n"
     ]
    }
   ],
   "source": [
    "def fibo(x):\n",
    "    a=1\n",
    "    b=1\n",
    "    print(1)\n",
    "    print(1)\n",
    "    for i in range(2,x):\n",
    "        c=a+b\n",
    "        a=b\n",
    "        b=c\n",
    "        print(c)\n",
    "fibo(10)"
   ]
  },
  {
   "cell_type": "code",
   "execution_count": 15,
   "id": "e6872c49",
   "metadata": {},
   "outputs": [
    {
     "name": "stdout",
     "output_type": "stream",
     "text": [
      "1\n",
      "1\n",
      "2\n",
      "3\n",
      "5\n",
      "8\n",
      "13\n",
      "21\n",
      "34\n",
      "55\n"
     ]
    }
   ],
   "source": [
    "def fibo(x):\n",
    "    a=1\n",
    "    b=1\n",
    "    print(1)\n",
    "    print(1)\n",
    "    for i in range(2,x):\n",
    "        c=a+b\n",
    "        a=b\n",
    "        b=c\n",
    "        print(c)\n",
    "fibo(10)"
   ]
  },
  {
   "cell_type": "code",
   "execution_count": null,
   "id": "7bda8bf1",
   "metadata": {},
   "outputs": [],
   "source": [
    "def fibo(x):\n",
    "    a=1\n",
    "    b=1\n",
    "    print(1)\n",
    "    print(1)\n",
    "    for i in range(2,x):\n",
    "        c=a+b\n",
    "        a=b\n",
    "        b=c\n",
    "        print(c)\n",
    "fibo(10)"
   ]
  },
  {
   "cell_type": "code",
   "execution_count": 18,
   "id": "89d382fa",
   "metadata": {},
   "outputs": [],
   "source": [
    "import turtle\n",
    "r=120\n",
    "a=180\n",
    "turtle.circle(r,a)\n",
    "turtle.done()"
   ]
  },
  {
   "cell_type": "code",
   "execution_count": 5,
   "id": "fd34ef8e",
   "metadata": {},
   "outputs": [
    {
     "name": "stdout",
     "output_type": "stream",
     "text": [
      "please enter a number3\n",
      "your number is prime\n"
     ]
    }
   ],
   "source": [
    "num=input(\"please enter a number\")\n",
    "num=int(num)\n",
    "for i in range(2,num):\n",
    "    if num%i==0:\n",
    "        print('Your number is not prime')\n",
    "        break\n",
    "else:\n",
    "    print('your number is prime')"
   ]
  },
  {
   "cell_type": "code",
   "execution_count": 11,
   "id": "763352cf",
   "metadata": {},
   "outputs": [
    {
     "name": "stdout",
     "output_type": "stream",
     "text": [
      "8\n",
      "9\n",
      "17\n",
      "26\n",
      "43\n",
      "69\n",
      "112\n",
      "181\n",
      "293\n",
      "474\n"
     ]
    }
   ],
   "source": [
    "def fibo(n):\n",
    "    a=8\n",
    "    b=9\n",
    "    print(a)\n",
    "    print(b)\n",
    "    for i in range(2,n):\n",
    "        c=a+b\n",
    "        a=b\n",
    "        b=c\n",
    "        print(c) \n",
    "    \n",
    "fibo(10)"
   ]
  },
  {
   "cell_type": "code",
   "execution_count": 23,
   "id": "c80d9662",
   "metadata": {},
   "outputs": [
    {
     "ename": "IndentationError",
     "evalue": "unindent does not match any outer indentation level (<tokenize>, line 5)",
     "output_type": "error",
     "traceback": [
      "\u001b[1;36m  File \u001b[1;32m<tokenize>:5\u001b[1;36m\u001b[0m\n\u001b[1;33m    fib_x,fib_next=1,1\u001b[0m\n\u001b[1;37m    ^\u001b[0m\n\u001b[1;31mIndentationError\u001b[0m\u001b[1;31m:\u001b[0m unindent does not match any outer indentation level\n"
     ]
    }
   ],
   "source": [
    "n=int(input(\"please enter a number:\"))\n",
    "def find_fib(n):\n",
    "     if n<=2:\n",
    "        return 1\n",
    "    fib_x,fib_next=1,1\n",
    "    i=3\n",
    "    while i<=3:\n",
    "        i+=1\n",
    "        fib_x,fib_next = fib_next,fib_x + fib_next\n",
    "        return fib_next\n",
    "    for i in range(1,11):\n",
    "        print(find_fib(x))\n",
    "        \n",
    "find_fib(10)"
   ]
  },
  {
   "cell_type": "code",
   "execution_count": null,
   "id": "953432d4",
   "metadata": {},
   "outputs": [],
   "source": []
  }
 ],
 "metadata": {
  "kernelspec": {
   "display_name": "Python 3 (ipykernel)",
   "language": "python",
   "name": "python3"
  },
  "language_info": {
   "codemirror_mode": {
    "name": "ipython",
    "version": 3
   },
   "file_extension": ".py",
   "mimetype": "text/x-python",
   "name": "python",
   "nbconvert_exporter": "python",
   "pygments_lexer": "ipython3",
   "version": "3.9.12"
  }
 },
 "nbformat": 4,
 "nbformat_minor": 5
}
