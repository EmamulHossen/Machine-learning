{
 "cells": [
  {
   "cell_type": "code",
   "execution_count": 1,
   "id": "e085cd21",
   "metadata": {},
   "outputs": [
    {
     "name": "stdout",
     "output_type": "stream",
     "text": [
      "Requirement already satisfied: numpy in c:\\users\\hp\\anaconda3\\lib\\site-packages (1.21.5)\n",
      "Note: you may need to restart the kernel to use updated packages.\n"
     ]
    }
   ],
   "source": [
    "pip install numpy"
   ]
  },
  {
   "cell_type": "markdown",
   "id": "ea2f1fca",
   "metadata": {},
   "source": [
    "# Array Atrributes"
   ]
  },
  {
   "cell_type": "code",
   "execution_count": 3,
   "id": "094ed2e1",
   "metadata": {},
   "outputs": [],
   "source": [
    "import numpy as np\n",
    "a=np.array([1,2,3,4,5,6])\n"
   ]
  },
  {
   "cell_type": "code",
   "execution_count": 4,
   "id": "c0386e44",
   "metadata": {},
   "outputs": [
    {
     "data": {
      "text/plain": [
       "array([1, 2, 3, 4, 5, 6])"
      ]
     },
     "execution_count": 4,
     "metadata": {},
     "output_type": "execute_result"
    }
   ],
   "source": [
    "a"
   ]
  },
  {
   "cell_type": "code",
   "execution_count": 6,
   "id": "f08b1b75",
   "metadata": {},
   "outputs": [
    {
     "data": {
      "text/plain": [
       "numpy.ndarray"
      ]
     },
     "execution_count": 6,
     "metadata": {},
     "output_type": "execute_result"
    }
   ],
   "source": [
    "type(a)"
   ]
  },
  {
   "cell_type": "code",
   "execution_count": 7,
   "id": "d3dd607f",
   "metadata": {},
   "outputs": [
    {
     "data": {
      "text/plain": [
       "(6,)"
      ]
     },
     "execution_count": 7,
     "metadata": {},
     "output_type": "execute_result"
    }
   ],
   "source": [
    "a.shape"
   ]
  },
  {
   "cell_type": "code",
   "execution_count": 8,
   "id": "48f3fdbe",
   "metadata": {},
   "outputs": [
    {
     "data": {
      "text/plain": [
       "1"
      ]
     },
     "execution_count": 8,
     "metadata": {},
     "output_type": "execute_result"
    }
   ],
   "source": [
    "a.ndim # Dimension Check Korer Jonnno"
   ]
  },
  {
   "cell_type": "code",
   "execution_count": 23,
   "id": "a48f3164",
   "metadata": {},
   "outputs": [
    {
     "data": {
      "text/plain": [
       "8"
      ]
     },
     "execution_count": 23,
     "metadata": {},
     "output_type": "execute_result"
    }
   ],
   "source": [
    "a.size"
   ]
  },
  {
   "cell_type": "code",
   "execution_count": null,
   "id": "7d426dbd",
   "metadata": {},
   "outputs": [],
   "source": []
  },
  {
   "cell_type": "code",
   "execution_count": 10,
   "id": "290a882b",
   "metadata": {},
   "outputs": [],
   "source": [
    "import numpy as np\n",
    "a=np.array([[1,2,3,4],\n",
    "          [5,6,7,8]])\n"
   ]
  },
  {
   "cell_type": "code",
   "execution_count": 11,
   "id": "8130bdc8",
   "metadata": {},
   "outputs": [
    {
     "data": {
      "text/plain": [
       "array([[1, 2, 3, 4],\n",
       "       [5, 6, 7, 8]])"
      ]
     },
     "execution_count": 11,
     "metadata": {},
     "output_type": "execute_result"
    }
   ],
   "source": [
    "a"
   ]
  },
  {
   "cell_type": "code",
   "execution_count": 12,
   "id": "1bafa9ba",
   "metadata": {},
   "outputs": [
    {
     "data": {
      "text/plain": [
       "(2, 4)"
      ]
     },
     "execution_count": 12,
     "metadata": {},
     "output_type": "execute_result"
    }
   ],
   "source": [
    "a.shape # it is used to know row & colum"
   ]
  },
  {
   "cell_type": "code",
   "execution_count": 13,
   "id": "3c087da7",
   "metadata": {},
   "outputs": [
    {
     "data": {
      "text/plain": [
       "2"
      ]
     },
     "execution_count": 13,
     "metadata": {},
     "output_type": "execute_result"
    }
   ],
   "source": [
    "a.ndim"
   ]
  },
  {
   "cell_type": "code",
   "execution_count": 14,
   "id": "3436c3bf",
   "metadata": {},
   "outputs": [
    {
     "data": {
      "text/plain": [
       "numpy.ndarray"
      ]
     },
     "execution_count": 14,
     "metadata": {},
     "output_type": "execute_result"
    }
   ],
   "source": [
    "type(a)"
   ]
  },
  {
   "cell_type": "code",
   "execution_count": 15,
   "id": "6c99bbec",
   "metadata": {},
   "outputs": [],
   "source": [
    "import numpy as np\n",
    "c=np.array([[1,2,3],\n",
    "    [4,5,6],\n",
    "    [7,8,9]])\n",
    "\n"
   ]
  },
  {
   "cell_type": "code",
   "execution_count": 16,
   "id": "f0434980",
   "metadata": {},
   "outputs": [
    {
     "data": {
      "text/plain": [
       "array([[1, 2, 3],\n",
       "       [4, 5, 6],\n",
       "       [7, 8, 9]])"
      ]
     },
     "execution_count": 16,
     "metadata": {},
     "output_type": "execute_result"
    }
   ],
   "source": [
    "c"
   ]
  },
  {
   "cell_type": "code",
   "execution_count": 17,
   "id": "dfc200ab",
   "metadata": {},
   "outputs": [
    {
     "data": {
      "text/plain": [
       "2"
      ]
     },
     "execution_count": 17,
     "metadata": {},
     "output_type": "execute_result"
    }
   ],
   "source": [
    "c.ndim"
   ]
  },
  {
   "cell_type": "code",
   "execution_count": 18,
   "id": "f9942c51",
   "metadata": {},
   "outputs": [
    {
     "data": {
      "text/plain": [
       "(3, 3)"
      ]
     },
     "execution_count": 18,
     "metadata": {},
     "output_type": "execute_result"
    }
   ],
   "source": [
    "c.shape"
   ]
  },
  {
   "cell_type": "code",
   "execution_count": 19,
   "id": "bbefdf38",
   "metadata": {},
   "outputs": [
    {
     "data": {
      "text/plain": [
       "numpy.ndarray"
      ]
     },
     "execution_count": 19,
     "metadata": {},
     "output_type": "execute_result"
    }
   ],
   "source": [
    "type(c)"
   ]
  },
  {
   "cell_type": "code",
   "execution_count": 20,
   "id": "c1828d02",
   "metadata": {},
   "outputs": [
    {
     "data": {
      "text/plain": [
       "9"
      ]
     },
     "execution_count": 20,
     "metadata": {},
     "output_type": "execute_result"
    }
   ],
   "source": [
    "c.size # determine how many elements in array"
   ]
  },
  {
   "cell_type": "code",
   "execution_count": 22,
   "id": "d147ce84",
   "metadata": {},
   "outputs": [
    {
     "data": {
      "text/plain": [
       "36"
      ]
     },
     "execution_count": 22,
     "metadata": {},
     "output_type": "execute_result"
    }
   ],
   "source": [
    "c.nbytes"
   ]
  },
  {
   "cell_type": "markdown",
   "id": "e5a3c46c",
   "metadata": {},
   "source": [
    "# Array Creation"
   ]
  },
  {
   "cell_type": "code",
   "execution_count": 2,
   "id": "8ad67fa3",
   "metadata": {},
   "outputs": [],
   "source": [
    "import numpy as np\n",
    "array1=np.array([1,2,3,4,5],dtype='int')"
   ]
  },
  {
   "cell_type": "code",
   "execution_count": 4,
   "id": "ca4eaedf",
   "metadata": {},
   "outputs": [
    {
     "data": {
      "text/plain": [
       "array([1, 2, 3, 4, 5])"
      ]
     },
     "execution_count": 4,
     "metadata": {},
     "output_type": "execute_result"
    }
   ],
   "source": [
    "array1"
   ]
  },
  {
   "cell_type": "code",
   "execution_count": 5,
   "id": "2633d694",
   "metadata": {},
   "outputs": [
    {
     "data": {
      "text/plain": [
       "numpy.ndarray"
      ]
     },
     "execution_count": 5,
     "metadata": {},
     "output_type": "execute_result"
    }
   ],
   "source": [
    "type(array1)"
   ]
  },
  {
   "cell_type": "code",
   "execution_count": 6,
   "id": "c182e136",
   "metadata": {},
   "outputs": [
    {
     "data": {
      "text/plain": [
       "1"
      ]
     },
     "execution_count": 6,
     "metadata": {},
     "output_type": "execute_result"
    }
   ],
   "source": [
    "array1.ndim"
   ]
  },
  {
   "cell_type": "raw",
   "id": "b44fd5a4",
   "metadata": {},
   "source": [
    "array1.shape"
   ]
  },
  {
   "cell_type": "code",
   "execution_count": 7,
   "id": "21eee73c",
   "metadata": {},
   "outputs": [
    {
     "data": {
      "text/plain": [
       "array([1, 2, 3, 4, 5])"
      ]
     },
     "execution_count": 7,
     "metadata": {},
     "output_type": "execute_result"
    }
   ],
   "source": [
    "array1"
   ]
  },
  {
   "cell_type": "code",
   "execution_count": 8,
   "id": "55dc5ee9",
   "metadata": {},
   "outputs": [],
   "source": [
    "#To create Array\n",
    "zeros=np.zeros([3,3],dtype='int')"
   ]
  },
  {
   "cell_type": "code",
   "execution_count": 9,
   "id": "fb6f7586",
   "metadata": {},
   "outputs": [
    {
     "data": {
      "text/plain": [
       "array([[0, 0, 0],\n",
       "       [0, 0, 0],\n",
       "       [0, 0, 0]])"
      ]
     },
     "execution_count": 9,
     "metadata": {},
     "output_type": "execute_result"
    }
   ],
   "source": [
    "zeros"
   ]
  },
  {
   "cell_type": "code",
   "execution_count": 10,
   "id": "6bf6e1f5",
   "metadata": {},
   "outputs": [],
   "source": [
    "zeros=np.zeros([3,3],dtype='float')"
   ]
  },
  {
   "cell_type": "code",
   "execution_count": 11,
   "id": "61c4d76f",
   "metadata": {},
   "outputs": [
    {
     "data": {
      "text/plain": [
       "array([[0., 0., 0.],\n",
       "       [0., 0., 0.],\n",
       "       [0., 0., 0.]])"
      ]
     },
     "execution_count": 11,
     "metadata": {},
     "output_type": "execute_result"
    }
   ],
   "source": [
    "zeros"
   ]
  },
  {
   "cell_type": "code",
   "execution_count": 12,
   "id": "61cb2dce",
   "metadata": {},
   "outputs": [],
   "source": [
    "zeros=np.zeros([3,3],dtype='str')"
   ]
  },
  {
   "cell_type": "code",
   "execution_count": 13,
   "id": "02f9969d",
   "metadata": {},
   "outputs": [
    {
     "data": {
      "text/plain": [
       "array([['', '', ''],\n",
       "       ['', '', ''],\n",
       "       ['', '', '']], dtype='<U1')"
      ]
     },
     "execution_count": 13,
     "metadata": {},
     "output_type": "execute_result"
    }
   ],
   "source": [
    "zeros"
   ]
  },
  {
   "cell_type": "code",
   "execution_count": 15,
   "id": "05b0e99e",
   "metadata": {},
   "outputs": [],
   "source": [
    "ones=np.ones([3,3],dtype='int')"
   ]
  },
  {
   "cell_type": "code",
   "execution_count": 16,
   "id": "670410ce",
   "metadata": {},
   "outputs": [
    {
     "data": {
      "text/plain": [
       "array([[1, 1, 1],\n",
       "       [1, 1, 1],\n",
       "       [1, 1, 1]])"
      ]
     },
     "execution_count": 16,
     "metadata": {},
     "output_type": "execute_result"
    }
   ],
   "source": [
    "ones"
   ]
  },
  {
   "cell_type": "code",
   "execution_count": 18,
   "id": "bcd8a26e",
   "metadata": {},
   "outputs": [],
   "source": [
    "ones=np.ones([1,3],dtype='int')"
   ]
  },
  {
   "cell_type": "code",
   "execution_count": 19,
   "id": "581df83d",
   "metadata": {},
   "outputs": [
    {
     "data": {
      "text/plain": [
       "array([[1, 1, 1]])"
      ]
     },
     "execution_count": 19,
     "metadata": {},
     "output_type": "execute_result"
    }
   ],
   "source": [
    "ones"
   ]
  },
  {
   "cell_type": "code",
   "execution_count": 20,
   "id": "8d4d15e3",
   "metadata": {},
   "outputs": [],
   "source": [
    "ones=np.ones([5,5],dtype='int')"
   ]
  },
  {
   "cell_type": "code",
   "execution_count": 21,
   "id": "efcfeed9",
   "metadata": {},
   "outputs": [
    {
     "data": {
      "text/plain": [
       "array([[1, 1, 1, 1, 1],\n",
       "       [1, 1, 1, 1, 1],\n",
       "       [1, 1, 1, 1, 1],\n",
       "       [1, 1, 1, 1, 1],\n",
       "       [1, 1, 1, 1, 1]])"
      ]
     },
     "execution_count": 21,
     "metadata": {},
     "output_type": "execute_result"
    }
   ],
   "source": [
    "ones"
   ]
  },
  {
   "cell_type": "code",
   "execution_count": 22,
   "id": "e1aea956",
   "metadata": {},
   "outputs": [
    {
     "data": {
      "text/plain": [
       "array([[5, 5, 5],\n",
       "       [5, 5, 5],\n",
       "       [5, 5, 5]])"
      ]
     },
     "execution_count": 22,
     "metadata": {},
     "output_type": "execute_result"
    }
   ],
   "source": [
    "np.full([3,3],5,dtype='int') #To create any number array"
   ]
  },
  {
   "cell_type": "code",
   "execution_count": 23,
   "id": "dfbe5e0c",
   "metadata": {},
   "outputs": [],
   "source": [
    "num=np.full([4,4],10,dtype='float')"
   ]
  },
  {
   "cell_type": "code",
   "execution_count": 24,
   "id": "3f5eeaf7",
   "metadata": {},
   "outputs": [
    {
     "data": {
      "text/plain": [
       "array([[10., 10., 10., 10.],\n",
       "       [10., 10., 10., 10.],\n",
       "       [10., 10., 10., 10.],\n",
       "       [10., 10., 10., 10.]])"
      ]
     },
     "execution_count": 24,
     "metadata": {},
     "output_type": "execute_result"
    }
   ],
   "source": [
    "num"
   ]
  },
  {
   "cell_type": "code",
   "execution_count": 25,
   "id": "82aec111",
   "metadata": {},
   "outputs": [
    {
     "data": {
      "text/plain": [
       "numpy.ndarray"
      ]
     },
     "execution_count": 25,
     "metadata": {},
     "output_type": "execute_result"
    }
   ],
   "source": [
    "type(num)"
   ]
  },
  {
   "cell_type": "code",
   "execution_count": 26,
   "id": "ce873654",
   "metadata": {},
   "outputs": [
    {
     "data": {
      "text/plain": [
       "<function numpy.size(a, axis=None)>"
      ]
     },
     "execution_count": 26,
     "metadata": {},
     "output_type": "execute_result"
    }
   ],
   "source": [
    "np.size"
   ]
  },
  {
   "cell_type": "code",
   "execution_count": 27,
   "id": "627c4ad7",
   "metadata": {},
   "outputs": [
    {
     "data": {
      "text/plain": [
       "(4, 4)"
      ]
     },
     "execution_count": 27,
     "metadata": {},
     "output_type": "execute_result"
    }
   ],
   "source": [
    "num.shape"
   ]
  },
  {
   "cell_type": "code",
   "execution_count": 28,
   "id": "cca3d55d",
   "metadata": {},
   "outputs": [
    {
     "data": {
      "text/plain": [
       "2"
      ]
     },
     "execution_count": 28,
     "metadata": {},
     "output_type": "execute_result"
    }
   ],
   "source": [
    "num.ndim"
   ]
  },
  {
   "cell_type": "code",
   "execution_count": 30,
   "id": "2d6edf3f",
   "metadata": {},
   "outputs": [],
   "source": [
    "#To create identity Matrix\n",
    "identity=np.identity(3)"
   ]
  },
  {
   "cell_type": "code",
   "execution_count": 31,
   "id": "bd7f6053",
   "metadata": {},
   "outputs": [
    {
     "data": {
      "text/plain": [
       "array([[1., 0., 0.],\n",
       "       [0., 1., 0.],\n",
       "       [0., 0., 1.]])"
      ]
     },
     "execution_count": 31,
     "metadata": {},
     "output_type": "execute_result"
    }
   ],
   "source": [
    "identity"
   ]
  },
  {
   "cell_type": "code",
   "execution_count": 34,
   "id": "4935a15b",
   "metadata": {},
   "outputs": [],
   "source": [
    "identity=np.identity(5,dtype='int')"
   ]
  },
  {
   "cell_type": "code",
   "execution_count": 35,
   "id": "978aacc9",
   "metadata": {},
   "outputs": [
    {
     "data": {
      "text/plain": [
       "array([[1, 0, 0, 0, 0],\n",
       "       [0, 1, 0, 0, 0],\n",
       "       [0, 0, 1, 0, 0],\n",
       "       [0, 0, 0, 1, 0],\n",
       "       [0, 0, 0, 0, 1]])"
      ]
     },
     "execution_count": 35,
     "metadata": {},
     "output_type": "execute_result"
    }
   ],
   "source": [
    "identity"
   ]
  },
  {
   "cell_type": "code",
   "execution_count": 38,
   "id": "44106ee3",
   "metadata": {},
   "outputs": [],
   "source": [
    "eye=np.eye(3,3 ,1)"
   ]
  },
  {
   "cell_type": "code",
   "execution_count": 39,
   "id": "cabec751",
   "metadata": {},
   "outputs": [
    {
     "data": {
      "text/plain": [
       "array([[0., 1., 0.],\n",
       "       [0., 0., 1.],\n",
       "       [0., 0., 0.]])"
      ]
     },
     "execution_count": 39,
     "metadata": {},
     "output_type": "execute_result"
    }
   ],
   "source": [
    "eye"
   ]
  },
  {
   "cell_type": "code",
   "execution_count": 40,
   "id": "84e261aa",
   "metadata": {},
   "outputs": [],
   "source": [
    "eye=np.eye(3,3 ,0)"
   ]
  },
  {
   "cell_type": "code",
   "execution_count": 41,
   "id": "d0a0a996",
   "metadata": {},
   "outputs": [
    {
     "data": {
      "text/plain": [
       "array([[1., 0., 0.],\n",
       "       [0., 1., 0.],\n",
       "       [0., 0., 1.]])"
      ]
     },
     "execution_count": 41,
     "metadata": {},
     "output_type": "execute_result"
    }
   ],
   "source": [
    "eye"
   ]
  },
  {
   "cell_type": "code",
   "execution_count": 42,
   "id": "cef3116f",
   "metadata": {},
   "outputs": [],
   "source": [
    "eye=np.eye(3,3 ,-1)"
   ]
  },
  {
   "cell_type": "code",
   "execution_count": 43,
   "id": "3451005a",
   "metadata": {},
   "outputs": [
    {
     "data": {
      "text/plain": [
       "array([[0., 0., 0.],\n",
       "       [1., 0., 0.],\n",
       "       [0., 1., 0.]])"
      ]
     },
     "execution_count": 43,
     "metadata": {},
     "output_type": "execute_result"
    }
   ],
   "source": [
    "eye"
   ]
  },
  {
   "cell_type": "code",
   "execution_count": 44,
   "id": "fd08cc1d",
   "metadata": {},
   "outputs": [],
   "source": [
    "arange=np.arange(1,10,2)"
   ]
  },
  {
   "cell_type": "code",
   "execution_count": 45,
   "id": "e32c9593",
   "metadata": {},
   "outputs": [
    {
     "data": {
      "text/plain": [
       "array([1, 3, 5, 7, 9])"
      ]
     },
     "execution_count": 45,
     "metadata": {},
     "output_type": "execute_result"
    }
   ],
   "source": [
    "arange"
   ]
  },
  {
   "cell_type": "code",
   "execution_count": 46,
   "id": "4ea62da8",
   "metadata": {},
   "outputs": [],
   "source": [
    "arange=np.arange(1,100,10)"
   ]
  },
  {
   "cell_type": "code",
   "execution_count": 47,
   "id": "ccb3adc8",
   "metadata": {},
   "outputs": [
    {
     "data": {
      "text/plain": [
       "array([ 1, 11, 21, 31, 41, 51, 61, 71, 81, 91])"
      ]
     },
     "execution_count": 47,
     "metadata": {},
     "output_type": "execute_result"
    }
   ],
   "source": [
    "arange"
   ]
  },
  {
   "cell_type": "code",
   "execution_count": 48,
   "id": "b60f62eb",
   "metadata": {},
   "outputs": [],
   "source": [
    "linspace=np.linspace(1,10,10)"
   ]
  },
  {
   "cell_type": "code",
   "execution_count": 49,
   "id": "c8018aa7",
   "metadata": {},
   "outputs": [
    {
     "data": {
      "text/plain": [
       "array([ 1.,  2.,  3.,  4.,  5.,  6.,  7.,  8.,  9., 10.])"
      ]
     },
     "execution_count": 49,
     "metadata": {},
     "output_type": "execute_result"
    }
   ],
   "source": [
    "linspace"
   ]
  },
  {
   "cell_type": "code",
   "execution_count": 50,
   "id": "810786f6",
   "metadata": {},
   "outputs": [],
   "source": [
    "linspace=np.linspace(1,10,20)"
   ]
  },
  {
   "cell_type": "code",
   "execution_count": 51,
   "id": "f05eb92b",
   "metadata": {},
   "outputs": [
    {
     "data": {
      "text/plain": [
       "array([ 1.        ,  1.47368421,  1.94736842,  2.42105263,  2.89473684,\n",
       "        3.36842105,  3.84210526,  4.31578947,  4.78947368,  5.26315789,\n",
       "        5.73684211,  6.21052632,  6.68421053,  7.15789474,  7.63157895,\n",
       "        8.10526316,  8.57894737,  9.05263158,  9.52631579, 10.        ])"
      ]
     },
     "execution_count": 51,
     "metadata": {},
     "output_type": "execute_result"
    }
   ],
   "source": [
    "linspace"
   ]
  },
  {
   "cell_type": "code",
   "execution_count": 52,
   "id": "a2248669",
   "metadata": {},
   "outputs": [],
   "source": [
    "linspace=np.linspace(1,10,100)"
   ]
  },
  {
   "cell_type": "code",
   "execution_count": 53,
   "id": "befe1f03",
   "metadata": {},
   "outputs": [
    {
     "data": {
      "text/plain": [
       "array([ 1.        ,  1.09090909,  1.18181818,  1.27272727,  1.36363636,\n",
       "        1.45454545,  1.54545455,  1.63636364,  1.72727273,  1.81818182,\n",
       "        1.90909091,  2.        ,  2.09090909,  2.18181818,  2.27272727,\n",
       "        2.36363636,  2.45454545,  2.54545455,  2.63636364,  2.72727273,\n",
       "        2.81818182,  2.90909091,  3.        ,  3.09090909,  3.18181818,\n",
       "        3.27272727,  3.36363636,  3.45454545,  3.54545455,  3.63636364,\n",
       "        3.72727273,  3.81818182,  3.90909091,  4.        ,  4.09090909,\n",
       "        4.18181818,  4.27272727,  4.36363636,  4.45454545,  4.54545455,\n",
       "        4.63636364,  4.72727273,  4.81818182,  4.90909091,  5.        ,\n",
       "        5.09090909,  5.18181818,  5.27272727,  5.36363636,  5.45454545,\n",
       "        5.54545455,  5.63636364,  5.72727273,  5.81818182,  5.90909091,\n",
       "        6.        ,  6.09090909,  6.18181818,  6.27272727,  6.36363636,\n",
       "        6.45454545,  6.54545455,  6.63636364,  6.72727273,  6.81818182,\n",
       "        6.90909091,  7.        ,  7.09090909,  7.18181818,  7.27272727,\n",
       "        7.36363636,  7.45454545,  7.54545455,  7.63636364,  7.72727273,\n",
       "        7.81818182,  7.90909091,  8.        ,  8.09090909,  8.18181818,\n",
       "        8.27272727,  8.36363636,  8.45454545,  8.54545455,  8.63636364,\n",
       "        8.72727273,  8.81818182,  8.90909091,  9.        ,  9.09090909,\n",
       "        9.18181818,  9.27272727,  9.36363636,  9.45454545,  9.54545455,\n",
       "        9.63636364,  9.72727273,  9.81818182,  9.90909091, 10.        ])"
      ]
     },
     "execution_count": 53,
     "metadata": {},
     "output_type": "execute_result"
    }
   ],
   "source": [
    "linspace"
   ]
  },
  {
   "cell_type": "code",
   "execution_count": 54,
   "id": "2f2b1bcb",
   "metadata": {},
   "outputs": [],
   "source": [
    "linspace=np.linspace(1,10,100 ,dtype='int')"
   ]
  },
  {
   "cell_type": "code",
   "execution_count": 55,
   "id": "c5ba3f28",
   "metadata": {},
   "outputs": [
    {
     "data": {
      "text/plain": [
       "array([ 1,  1,  1,  1,  1,  1,  1,  1,  1,  1,  1,  2,  2,  2,  2,  2,  2,\n",
       "        2,  2,  2,  2,  2,  3,  3,  3,  3,  3,  3,  3,  3,  3,  3,  3,  4,\n",
       "        4,  4,  4,  4,  4,  4,  4,  4,  4,  4,  5,  5,  5,  5,  5,  5,  5,\n",
       "        5,  5,  5,  5,  6,  6,  6,  6,  6,  6,  6,  6,  6,  6,  6,  7,  7,\n",
       "        7,  7,  7,  7,  7,  7,  7,  7,  7,  8,  8,  8,  8,  8,  8,  8,  8,\n",
       "        8,  8,  8,  9,  9,  9,  9,  9,  9,  9,  9,  9,  9,  9, 10])"
      ]
     },
     "execution_count": 55,
     "metadata": {},
     "output_type": "execute_result"
    }
   ],
   "source": [
    "linspace"
   ]
  },
  {
   "cell_type": "code",
   "execution_count": 56,
   "id": "bd07a45c",
   "metadata": {},
   "outputs": [],
   "source": [
    "linspace=np.linspace(1,10,100 ,dtype='float')"
   ]
  },
  {
   "cell_type": "code",
   "execution_count": 57,
   "id": "8e941c52",
   "metadata": {},
   "outputs": [
    {
     "data": {
      "text/plain": [
       "array([ 1.        ,  1.09090909,  1.18181818,  1.27272727,  1.36363636,\n",
       "        1.45454545,  1.54545455,  1.63636364,  1.72727273,  1.81818182,\n",
       "        1.90909091,  2.        ,  2.09090909,  2.18181818,  2.27272727,\n",
       "        2.36363636,  2.45454545,  2.54545455,  2.63636364,  2.72727273,\n",
       "        2.81818182,  2.90909091,  3.        ,  3.09090909,  3.18181818,\n",
       "        3.27272727,  3.36363636,  3.45454545,  3.54545455,  3.63636364,\n",
       "        3.72727273,  3.81818182,  3.90909091,  4.        ,  4.09090909,\n",
       "        4.18181818,  4.27272727,  4.36363636,  4.45454545,  4.54545455,\n",
       "        4.63636364,  4.72727273,  4.81818182,  4.90909091,  5.        ,\n",
       "        5.09090909,  5.18181818,  5.27272727,  5.36363636,  5.45454545,\n",
       "        5.54545455,  5.63636364,  5.72727273,  5.81818182,  5.90909091,\n",
       "        6.        ,  6.09090909,  6.18181818,  6.27272727,  6.36363636,\n",
       "        6.45454545,  6.54545455,  6.63636364,  6.72727273,  6.81818182,\n",
       "        6.90909091,  7.        ,  7.09090909,  7.18181818,  7.27272727,\n",
       "        7.36363636,  7.45454545,  7.54545455,  7.63636364,  7.72727273,\n",
       "        7.81818182,  7.90909091,  8.        ,  8.09090909,  8.18181818,\n",
       "        8.27272727,  8.36363636,  8.45454545,  8.54545455,  8.63636364,\n",
       "        8.72727273,  8.81818182,  8.90909091,  9.        ,  9.09090909,\n",
       "        9.18181818,  9.27272727,  9.36363636,  9.45454545,  9.54545455,\n",
       "        9.63636364,  9.72727273,  9.81818182,  9.90909091, 10.        ])"
      ]
     },
     "execution_count": 57,
     "metadata": {},
     "output_type": "execute_result"
    }
   ],
   "source": [
    "linspace"
   ]
  },
  {
   "cell_type": "code",
   "execution_count": 58,
   "id": "5f0959ab",
   "metadata": {},
   "outputs": [],
   "source": [
    "linspace=np.linspace(1,10,100 ,dtype='str')"
   ]
  },
  {
   "cell_type": "code",
   "execution_count": 59,
   "id": "d6d3dcaa",
   "metadata": {},
   "outputs": [
    {
     "data": {
      "text/plain": [
       "array(['1.0', '1.0909090909090908', '1.1818181818181819',\n",
       "       '1.2727272727272727', '1.3636363636363638', '1.4545454545454546',\n",
       "       '1.5454545454545454', '1.6363636363636362', '1.7272727272727273',\n",
       "       '1.8181818181818183', '1.9090909090909092', '2.0',\n",
       "       '2.090909090909091', '2.1818181818181817', '2.2727272727272725',\n",
       "       '2.3636363636363638', '2.4545454545454546', '2.5454545454545454',\n",
       "       '2.6363636363636367', '2.7272727272727275', '2.8181818181818183',\n",
       "       '2.909090909090909', '3.0', '3.090909090909091',\n",
       "       '3.1818181818181817', '3.272727272727273', '3.3636363636363638',\n",
       "       '3.4545454545454546', '3.5454545454545454', '3.6363636363636362',\n",
       "       '3.7272727272727275', '3.8181818181818183', '3.909090909090909',\n",
       "       '4.0', '4.090909090909091', '4.181818181818182',\n",
       "       '4.272727272727273', '4.363636363636363', '4.454545454545455',\n",
       "       '4.545454545454545', '4.636363636363637', '4.7272727272727275',\n",
       "       '4.818181818181818', '4.909090909090909', '5.0',\n",
       "       '5.090909090909091', '5.181818181818182', '5.2727272727272725',\n",
       "       '5.363636363636363', '5.454545454545455', '5.545454545454546',\n",
       "       '5.636363636363637', '5.7272727272727275', '5.818181818181818',\n",
       "       '5.909090909090909', '6.0', '6.090909090909091',\n",
       "       '6.181818181818182', '6.2727272727272725', '6.363636363636364',\n",
       "       '6.454545454545455', '6.545454545454546', '6.636363636363637',\n",
       "       '6.7272727272727275', '6.818181818181818', '6.909090909090909',\n",
       "       '7.0', '7.090909090909091', '7.181818181818182',\n",
       "       '7.2727272727272725', '7.363636363636364', '7.454545454545455',\n",
       "       '7.545454545454546', '7.636363636363637', '7.7272727272727275',\n",
       "       '7.818181818181818', '7.909090909090909', '8.0',\n",
       "       '8.09090909090909', '8.181818181818182', '8.272727272727273',\n",
       "       '8.363636363636363', '8.454545454545455', '8.545454545454547',\n",
       "       '8.636363636363637', '8.727272727272727', '8.818181818181818',\n",
       "       '8.90909090909091', '9.0', '9.090909090909092',\n",
       "       '9.181818181818182', '9.272727272727273', '9.363636363636363',\n",
       "       '9.454545454545455', '9.545454545454545', '9.636363636363637',\n",
       "       '9.727272727272727', '9.818181818181818', '9.90909090909091',\n",
       "       '10.0'], dtype='<U32')"
      ]
     },
     "execution_count": 59,
     "metadata": {},
     "output_type": "execute_result"
    }
   ],
   "source": [
    "linspace"
   ]
  },
  {
   "cell_type": "code",
   "execution_count": 60,
   "id": "279a1ad8",
   "metadata": {},
   "outputs": [
    {
     "data": {
      "text/plain": [
       "100"
      ]
     },
     "execution_count": 60,
     "metadata": {},
     "output_type": "execute_result"
    }
   ],
   "source": [
    "linspace.size"
   ]
  },
  {
   "cell_type": "code",
   "execution_count": 62,
   "id": "b4a3a1d3",
   "metadata": {},
   "outputs": [],
   "source": [
    "empty=np.empty((1,5))"
   ]
  },
  {
   "cell_type": "code",
   "execution_count": 63,
   "id": "446adadb",
   "metadata": {},
   "outputs": [
    {
     "data": {
      "text/plain": [
       "array([[1., 1., 1., 1., 1.]])"
      ]
     },
     "execution_count": 63,
     "metadata": {},
     "output_type": "execute_result"
    }
   ],
   "source": [
    "empty"
   ]
  },
  {
   "cell_type": "markdown",
   "id": "7ff4265c",
   "metadata": {},
   "source": [
    "#Class Four "
   ]
  },
  {
   "cell_type": "markdown",
   "id": "f65932db",
   "metadata": {},
   "source": [
    "# Array Indexing & slicing"
   ]
  },
  {
   "cell_type": "markdown",
   "id": "14cd59bd",
   "metadata": {},
   "source": [
    "# Indexing"
   ]
  },
  {
   "cell_type": "code",
   "execution_count": 64,
   "id": "93378841",
   "metadata": {},
   "outputs": [],
   "source": [
    "arr=np.array([1,2,3,4,5])"
   ]
  },
  {
   "cell_type": "code",
   "execution_count": 65,
   "id": "bcef0997",
   "metadata": {},
   "outputs": [
    {
     "data": {
      "text/plain": [
       "array([1, 2, 3, 4, 5])"
      ]
     },
     "execution_count": 65,
     "metadata": {},
     "output_type": "execute_result"
    }
   ],
   "source": [
    "arr"
   ]
  },
  {
   "cell_type": "code",
   "execution_count": 66,
   "id": "0c4ff580",
   "metadata": {},
   "outputs": [
    {
     "name": "stdout",
     "output_type": "stream",
     "text": [
      "[1 2 3 4 5]\n"
     ]
    }
   ],
   "source": [
    "print(arr)"
   ]
  },
  {
   "cell_type": "code",
   "execution_count": 67,
   "id": "d2969eac",
   "metadata": {},
   "outputs": [
    {
     "data": {
      "text/plain": [
       "numpy.ndarray"
      ]
     },
     "execution_count": 67,
     "metadata": {},
     "output_type": "execute_result"
    }
   ],
   "source": [
    "type(arr)"
   ]
  },
  {
   "cell_type": "code",
   "execution_count": 68,
   "id": "77fa4913",
   "metadata": {},
   "outputs": [
    {
     "data": {
      "text/plain": [
       "5"
      ]
     },
     "execution_count": 68,
     "metadata": {},
     "output_type": "execute_result"
    }
   ],
   "source": [
    "arr.size"
   ]
  },
  {
   "cell_type": "code",
   "execution_count": 69,
   "id": "9886b712",
   "metadata": {},
   "outputs": [
    {
     "data": {
      "text/plain": [
       "20"
      ]
     },
     "execution_count": 69,
     "metadata": {},
     "output_type": "execute_result"
    }
   ],
   "source": [
    "arr.nbytes"
   ]
  },
  {
   "cell_type": "code",
   "execution_count": 70,
   "id": "fd5c73c3",
   "metadata": {},
   "outputs": [
    {
     "data": {
      "text/plain": [
       "1"
      ]
     },
     "execution_count": 70,
     "metadata": {},
     "output_type": "execute_result"
    }
   ],
   "source": [
    "arr[0]"
   ]
  },
  {
   "cell_type": "code",
   "execution_count": 71,
   "id": "e0f9d2e8",
   "metadata": {},
   "outputs": [
    {
     "data": {
      "text/plain": [
       "4"
      ]
     },
     "execution_count": 71,
     "metadata": {},
     "output_type": "execute_result"
    }
   ],
   "source": [
    "arr[3]"
   ]
  },
  {
   "cell_type": "code",
   "execution_count": 73,
   "id": "ab511925",
   "metadata": {},
   "outputs": [
    {
     "data": {
      "text/plain": [
       "5"
      ]
     },
     "execution_count": 73,
     "metadata": {},
     "output_type": "execute_result"
    }
   ],
   "source": [
    "arr[4]"
   ]
  },
  {
   "cell_type": "code",
   "execution_count": 74,
   "id": "ddc97ba6",
   "metadata": {},
   "outputs": [
    {
     "data": {
      "text/plain": [
       "5"
      ]
     },
     "execution_count": 74,
     "metadata": {},
     "output_type": "execute_result"
    }
   ],
   "source": [
    "arr[-1]"
   ]
  },
  {
   "cell_type": "code",
   "execution_count": 75,
   "id": "7d9b4503",
   "metadata": {},
   "outputs": [
    {
     "data": {
      "text/plain": [
       "2"
      ]
     },
     "execution_count": 75,
     "metadata": {},
     "output_type": "execute_result"
    }
   ],
   "source": [
    "arr[-4]"
   ]
  },
  {
   "cell_type": "code",
   "execution_count": 78,
   "id": "72118b30",
   "metadata": {},
   "outputs": [],
   "source": [
    "arr1=np.array([[1,2,3,4,5],[6,7,8,9,10]])"
   ]
  },
  {
   "cell_type": "code",
   "execution_count": 80,
   "id": "5f89740c",
   "metadata": {},
   "outputs": [
    {
     "data": {
      "text/plain": [
       "array([[ 1,  2,  3,  4,  5],\n",
       "       [ 6,  7,  8,  9, 10]])"
      ]
     },
     "execution_count": 80,
     "metadata": {},
     "output_type": "execute_result"
    }
   ],
   "source": [
    "arr1"
   ]
  },
  {
   "cell_type": "code",
   "execution_count": 93,
   "id": "a1484c86",
   "metadata": {},
   "outputs": [],
   "source": [
    "#To create Random array\n",
    "arr2=np.random.randint(1,10,(3,3),dtype='int')"
   ]
  },
  {
   "cell_type": "code",
   "execution_count": 94,
   "id": "775a848a",
   "metadata": {},
   "outputs": [
    {
     "data": {
      "text/plain": [
       "array([[5, 4, 4],\n",
       "       [3, 6, 7],\n",
       "       [8, 6, 8]])"
      ]
     },
     "execution_count": 94,
     "metadata": {},
     "output_type": "execute_result"
    }
   ],
   "source": [
    "arr2"
   ]
  },
  {
   "cell_type": "code",
   "execution_count": 83,
   "id": "62c40435",
   "metadata": {},
   "outputs": [
    {
     "data": {
      "text/plain": [
       "5"
      ]
     },
     "execution_count": 83,
     "metadata": {},
     "output_type": "execute_result"
    }
   ],
   "source": [
    "arr2[0,0]"
   ]
  },
  {
   "cell_type": "code",
   "execution_count": 84,
   "id": "865a8487",
   "metadata": {},
   "outputs": [
    {
     "data": {
      "text/plain": [
       "5"
      ]
     },
     "execution_count": 84,
     "metadata": {},
     "output_type": "execute_result"
    }
   ],
   "source": [
    "arr2[0][0]"
   ]
  },
  {
   "cell_type": "code",
   "execution_count": 85,
   "id": "b2418f7e",
   "metadata": {},
   "outputs": [
    {
     "data": {
      "text/plain": [
       "5"
      ]
     },
     "execution_count": 85,
     "metadata": {},
     "output_type": "execute_result"
    }
   ],
   "source": [
    "arr2[1,1]"
   ]
  },
  {
   "cell_type": "code",
   "execution_count": 89,
   "id": "75fefbc0",
   "metadata": {},
   "outputs": [],
   "source": [
    "arr3=np.random.randint(1,10,size=(2,3,3))"
   ]
  },
  {
   "cell_type": "code",
   "execution_count": 90,
   "id": "53dffd3c",
   "metadata": {},
   "outputs": [
    {
     "data": {
      "text/plain": [
       "array([[[4, 9, 1],\n",
       "        [9, 2, 8],\n",
       "        [2, 6, 3]],\n",
       "\n",
       "       [[2, 2, 5],\n",
       "        [2, 8, 9],\n",
       "        [8, 6, 1]]])"
      ]
     },
     "execution_count": 90,
     "metadata": {},
     "output_type": "execute_result"
    }
   ],
   "source": [
    "arr3"
   ]
  },
  {
   "cell_type": "code",
   "execution_count": 104,
   "id": "19c0f417",
   "metadata": {},
   "outputs": [
    {
     "data": {
      "text/plain": [
       "2"
      ]
     },
     "execution_count": 104,
     "metadata": {},
     "output_type": "execute_result"
    }
   ],
   "source": [
    "arr3[0][1][1]"
   ]
  },
  {
   "cell_type": "code",
   "execution_count": 108,
   "id": "d82ffd87",
   "metadata": {},
   "outputs": [
    {
     "data": {
      "text/plain": [
       "1"
      ]
     },
     "execution_count": 108,
     "metadata": {},
     "output_type": "execute_result"
    }
   ],
   "source": [
    "arr3[1,2,2]"
   ]
  },
  {
   "cell_type": "code",
   "execution_count": 109,
   "id": "eaa5edbf",
   "metadata": {},
   "outputs": [
    {
     "data": {
      "text/plain": [
       "8"
      ]
     },
     "execution_count": 109,
     "metadata": {},
     "output_type": "execute_result"
    }
   ],
   "source": [
    "arr3[0,1,2]"
   ]
  },
  {
   "cell_type": "code",
   "execution_count": null,
   "id": "eb492c71",
   "metadata": {},
   "outputs": [],
   "source": []
  },
  {
   "cell_type": "code",
   "execution_count": 107,
   "id": "0553377d",
   "metadata": {},
   "outputs": [
    {
     "data": {
      "text/plain": [
       "2"
      ]
     },
     "execution_count": 107,
     "metadata": {},
     "output_type": "execute_result"
    }
   ],
   "source": [
    "arr3[0,1,1]"
   ]
  },
  {
   "cell_type": "code",
   "execution_count": null,
   "id": "08517ec3",
   "metadata": {},
   "outputs": [],
   "source": []
  },
  {
   "cell_type": "code",
   "execution_count": 100,
   "id": "4fa6296a",
   "metadata": {},
   "outputs": [],
   "source": [
    "arr2=np.random.randint(1,10,(2,3,3),dtype='int')"
   ]
  },
  {
   "cell_type": "code",
   "execution_count": 101,
   "id": "1c065571",
   "metadata": {},
   "outputs": [
    {
     "data": {
      "text/plain": [
       "array([[[5, 8, 2],\n",
       "        [6, 3, 9],\n",
       "        [9, 5, 5]],\n",
       "\n",
       "       [[4, 4, 9],\n",
       "        [8, 3, 2],\n",
       "        [2, 7, 9]]])"
      ]
     },
     "execution_count": 101,
     "metadata": {},
     "output_type": "execute_result"
    }
   ],
   "source": [
    "arr2"
   ]
  },
  {
   "cell_type": "code",
   "execution_count": 102,
   "id": "2a26ebd9",
   "metadata": {},
   "outputs": [],
   "source": [
    "arr2=np.random.randint(1,10,size=(2,3,3),dtype='int')"
   ]
  },
  {
   "cell_type": "code",
   "execution_count": 103,
   "id": "c55cc91b",
   "metadata": {},
   "outputs": [
    {
     "data": {
      "text/plain": [
       "array([[[8, 2, 3],\n",
       "        [6, 8, 9],\n",
       "        [5, 8, 1]],\n",
       "\n",
       "       [[6, 6, 4],\n",
       "        [3, 4, 7],\n",
       "        [7, 5, 7]]])"
      ]
     },
     "execution_count": 103,
     "metadata": {},
     "output_type": "execute_result"
    }
   ],
   "source": [
    "arr2"
   ]
  },
  {
   "cell_type": "markdown",
   "id": "787c9dd0",
   "metadata": {},
   "source": [
    "# Slicing"
   ]
  },
  {
   "cell_type": "code",
   "execution_count": 110,
   "id": "ef78e22b",
   "metadata": {},
   "outputs": [
    {
     "name": "stdout",
     "output_type": "stream",
     "text": [
      "[1 2 3 4 5]\n"
     ]
    }
   ],
   "source": [
    "print(arr)"
   ]
  },
  {
   "cell_type": "code",
   "execution_count": 111,
   "id": "0206c93f",
   "metadata": {},
   "outputs": [
    {
     "data": {
      "text/plain": [
       "array([1, 2, 3])"
      ]
     },
     "execution_count": 111,
     "metadata": {},
     "output_type": "execute_result"
    }
   ],
   "source": [
    "arr[0:3] #0=index ,3=index ,upto three ,not including 3"
   ]
  },
  {
   "cell_type": "code",
   "execution_count": 112,
   "id": "84270f98",
   "metadata": {},
   "outputs": [
    {
     "data": {
      "text/plain": [
       "array([2, 3])"
      ]
     },
     "execution_count": 112,
     "metadata": {},
     "output_type": "execute_result"
    }
   ],
   "source": [
    "arr[1:3]"
   ]
  },
  {
   "cell_type": "code",
   "execution_count": 113,
   "id": "2729cd20",
   "metadata": {},
   "outputs": [
    {
     "data": {
      "text/plain": [
       "array([3, 4, 5])"
      ]
     },
     "execution_count": 113,
     "metadata": {},
     "output_type": "execute_result"
    }
   ],
   "source": [
    "arr[2:5]"
   ]
  },
  {
   "cell_type": "code",
   "execution_count": 116,
   "id": "9cba7f21",
   "metadata": {},
   "outputs": [
    {
     "data": {
      "text/plain": [
       "array([[ 1,  2,  3,  4,  5],\n",
       "       [ 6,  7,  8,  9, 10]])"
      ]
     },
     "execution_count": 116,
     "metadata": {},
     "output_type": "execute_result"
    }
   ],
   "source": [
    "arr1"
   ]
  },
  {
   "cell_type": "code",
   "execution_count": 118,
   "id": "f26148cd",
   "metadata": {},
   "outputs": [
    {
     "data": {
      "text/plain": [
       "array([[ 1,  2,  3,  4,  5],\n",
       "       [ 6,  7,  8,  9, 10]])"
      ]
     },
     "execution_count": 118,
     "metadata": {},
     "output_type": "execute_result"
    }
   ],
   "source": [
    "arr1[0:2]"
   ]
  },
  {
   "cell_type": "code",
   "execution_count": 119,
   "id": "e7910642",
   "metadata": {},
   "outputs": [
    {
     "data": {
      "text/plain": [
       "array([[1, 2],\n",
       "       [6, 7]])"
      ]
     },
     "execution_count": 119,
     "metadata": {},
     "output_type": "execute_result"
    }
   ],
   "source": [
    "arr1[0:2,0:2]"
   ]
  },
  {
   "cell_type": "code",
   "execution_count": 123,
   "id": "2495aefb",
   "metadata": {},
   "outputs": [
    {
     "data": {
      "text/plain": [
       "array([[3, 4],\n",
       "       [8, 9]])"
      ]
     },
     "execution_count": 123,
     "metadata": {},
     "output_type": "execute_result"
    }
   ],
   "source": [
    "arr1[0:2,2:4]"
   ]
  },
  {
   "cell_type": "markdown",
   "id": "46547193",
   "metadata": {},
   "source": [
    "# Class Five"
   ]
  },
  {
   "cell_type": "markdown",
   "id": "ad7267c6",
   "metadata": {},
   "source": [
    "# Manipilating Array Shapes\n",
    "1.reshape()\n",
    "2.resize()\n",
    "3.flatten()\n",
    "4.ravel()\n",
    "5.defining array shape"
   ]
  },
  {
   "cell_type": "markdown",
   "id": "868f4b4b",
   "metadata": {},
   "source": [
    "# reshape()"
   ]
  },
  {
   "cell_type": "code",
   "execution_count": 124,
   "id": "8494889d",
   "metadata": {},
   "outputs": [],
   "source": [
    "a=np.array([[1,2,3],[4,5,6]])"
   ]
  },
  {
   "cell_type": "code",
   "execution_count": 125,
   "id": "36fa388f",
   "metadata": {},
   "outputs": [
    {
     "data": {
      "text/plain": [
       "array([[1, 2, 3],\n",
       "       [4, 5, 6]])"
      ]
     },
     "execution_count": 125,
     "metadata": {},
     "output_type": "execute_result"
    }
   ],
   "source": [
    "a"
   ]
  },
  {
   "cell_type": "code",
   "execution_count": 126,
   "id": "6d625e90",
   "metadata": {},
   "outputs": [
    {
     "data": {
      "text/plain": [
       "(2, 3)"
      ]
     },
     "execution_count": 126,
     "metadata": {},
     "output_type": "execute_result"
    }
   ],
   "source": [
    "a.shape"
   ]
  },
  {
   "cell_type": "code",
   "execution_count": 127,
   "id": "14b3b67f",
   "metadata": {},
   "outputs": [
    {
     "data": {
      "text/plain": [
       "array([[1, 2],\n",
       "       [3, 4],\n",
       "       [5, 6]])"
      ]
     },
     "execution_count": 127,
     "metadata": {},
     "output_type": "execute_result"
    }
   ],
   "source": [
    "np.reshape(a,(3,2))"
   ]
  },
  {
   "cell_type": "code",
   "execution_count": 131,
   "id": "193caff7",
   "metadata": {},
   "outputs": [
    {
     "data": {
      "text/plain": [
       "array([[1, 2],\n",
       "       [3, 4],\n",
       "       [5, 6]])"
      ]
     },
     "execution_count": 131,
     "metadata": {},
     "output_type": "execute_result"
    }
   ],
   "source": [
    "np.reshape(a,(3,2))"
   ]
  },
  {
   "cell_type": "code",
   "execution_count": 132,
   "id": "32ee4f1c",
   "metadata": {},
   "outputs": [],
   "source": [
    "reshaped=np.reshape(a,(3,2))"
   ]
  },
  {
   "cell_type": "code",
   "execution_count": 133,
   "id": "5f1c439c",
   "metadata": {},
   "outputs": [
    {
     "data": {
      "text/plain": [
       "array([[1, 2],\n",
       "       [3, 4],\n",
       "       [5, 6]])"
      ]
     },
     "execution_count": 133,
     "metadata": {},
     "output_type": "execute_result"
    }
   ],
   "source": [
    "reshaped"
   ]
  },
  {
   "cell_type": "code",
   "execution_count": 134,
   "id": "1e73b522",
   "metadata": {},
   "outputs": [
    {
     "data": {
      "text/plain": [
       "(3, 2)"
      ]
     },
     "execution_count": 134,
     "metadata": {},
     "output_type": "execute_result"
    }
   ],
   "source": [
    "reshaped.shape"
   ]
  },
  {
   "cell_type": "code",
   "execution_count": 135,
   "id": "2bb749e5",
   "metadata": {},
   "outputs": [
    {
     "data": {
      "text/plain": [
       "array([[1, 2],\n",
       "       [3, 4],\n",
       "       [5, 6]])"
      ]
     },
     "execution_count": 135,
     "metadata": {},
     "output_type": "execute_result"
    }
   ],
   "source": [
    "a.reshape(3,2) # Alternative Process"
   ]
  },
  {
   "cell_type": "markdown",
   "id": "b46e29ef",
   "metadata": {},
   "source": [
    "# resize()"
   ]
  },
  {
   "cell_type": "code",
   "execution_count": 150,
   "id": "a092ea5e",
   "metadata": {},
   "outputs": [],
   "source": [
    "resized=np.resize(a,(3,3))"
   ]
  },
  {
   "cell_type": "code",
   "execution_count": 151,
   "id": "181da953",
   "metadata": {},
   "outputs": [],
   "source": [
    "resized=np.resize(a,(3,4))"
   ]
  },
  {
   "cell_type": "code",
   "execution_count": 140,
   "id": "91ab9f04",
   "metadata": {},
   "outputs": [
    {
     "data": {
      "text/plain": [
       "array([[1, 2, 3, 4],\n",
       "       [5, 6, 1, 2],\n",
       "       [3, 4, 5, 6]])"
      ]
     },
     "execution_count": 140,
     "metadata": {},
     "output_type": "execute_result"
    }
   ],
   "source": [
    "resized"
   ]
  },
  {
   "cell_type": "markdown",
   "id": "a0589c2b",
   "metadata": {},
   "source": [
    "# revel()"
   ]
  },
  {
   "cell_type": "code",
   "execution_count": 146,
   "id": "a3915a2a",
   "metadata": {},
   "outputs": [],
   "source": [
    "a=np.random.randint(1,10,(2,3)) #return a view of the array"
   ]
  },
  {
   "cell_type": "code",
   "execution_count": 147,
   "id": "a6b42923",
   "metadata": {},
   "outputs": [
    {
     "data": {
      "text/plain": [
       "array([[7, 4, 3],\n",
       "       [2, 1, 4]])"
      ]
     },
     "execution_count": 147,
     "metadata": {},
     "output_type": "execute_result"
    }
   ],
   "source": [
    "a"
   ]
  },
  {
   "cell_type": "code",
   "execution_count": 148,
   "id": "908c2146",
   "metadata": {},
   "outputs": [],
   "source": [
    "a_revel=np.ravel(a) # ravel j kono array k one dimensional te convert kore"
   ]
  },
  {
   "cell_type": "code",
   "execution_count": 149,
   "id": "6b957406",
   "metadata": {},
   "outputs": [
    {
     "data": {
      "text/plain": [
       "array([7, 4, 3, 2, 1, 4])"
      ]
     },
     "execution_count": 149,
     "metadata": {},
     "output_type": "execute_result"
    }
   ],
   "source": [
    "a_revel"
   ]
  },
  {
   "cell_type": "markdown",
   "id": "ea4320aa",
   "metadata": {},
   "source": [
    "# flatten()"
   ]
  },
  {
   "cell_type": "code",
   "execution_count": 152,
   "id": "5388a6b1",
   "metadata": {},
   "outputs": [
    {
     "data": {
      "text/plain": [
       "array([[7, 4, 3],\n",
       "       [2, 1, 4]])"
      ]
     },
     "execution_count": 152,
     "metadata": {},
     "output_type": "execute_result"
    }
   ],
   "source": [
    "a     #Return a copy of the array,allocate new memory"
   ]
  },
  {
   "cell_type": "code",
   "execution_count": 154,
   "id": "70052595",
   "metadata": {},
   "outputs": [],
   "source": [
    "a_flattened=a.flatten()"
   ]
  },
  {
   "cell_type": "code",
   "execution_count": 155,
   "id": "e3d3ac1f",
   "metadata": {},
   "outputs": [
    {
     "data": {
      "text/plain": [
       "array([7, 4, 3, 2, 1, 4])"
      ]
     },
     "execution_count": 155,
     "metadata": {},
     "output_type": "execute_result"
    }
   ],
   "source": [
    "a_flattened"
   ]
  },
  {
   "cell_type": "code",
   "execution_count": null,
   "id": "f2a75c16",
   "metadata": {},
   "outputs": [],
   "source": []
  }
 ],
 "metadata": {
  "kernelspec": {
   "display_name": "Python 3 (ipykernel)",
   "language": "python",
   "name": "python3"
  },
  "language_info": {
   "codemirror_mode": {
    "name": "ipython",
    "version": 3
   },
   "file_extension": ".py",
   "mimetype": "text/x-python",
   "name": "python",
   "nbconvert_exporter": "python",
   "pygments_lexer": "ipython3",
   "version": "3.9.12"
  }
 },
 "nbformat": 4,
 "nbformat_minor": 5
}
