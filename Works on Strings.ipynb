{
 "cells": [
  {
   "cell_type": "code",
   "execution_count": 1,
   "id": "c08d2891",
   "metadata": {},
   "outputs": [
    {
     "data": {
      "text/plain": [
       "5"
      ]
     },
     "execution_count": 1,
     "metadata": {},
     "output_type": "execute_result"
    }
   ],
   "source": [
    "s=\"Hello\"\n",
    "len(s)"
   ]
  },
  {
   "cell_type": "code",
   "execution_count": 11,
   "id": "d007a5d7",
   "metadata": {},
   "outputs": [
    {
     "data": {
      "text/plain": [
       "19"
      ]
     },
     "execution_count": 11,
     "metadata": {},
     "output_type": "execute_result"
    }
   ],
   "source": [
    "BME='BME is a department'\n",
    "len(BME)"
   ]
  },
  {
   "cell_type": "code",
   "execution_count": 3,
   "id": "19c33ed7",
   "metadata": {},
   "outputs": [
    {
     "name": "stdout",
     "output_type": "stream",
     "text": [
      "6\n"
     ]
    }
   ],
   "source": [
    "s=\"Emamul\"\n",
    "len(s)\n",
    "l=len(s)\n",
    "print(l)\n"
   ]
  },
  {
   "cell_type": "code",
   "execution_count": 4,
   "id": "8b346de0",
   "metadata": {},
   "outputs": [
    {
     "data": {
      "text/plain": [
       "0"
      ]
     },
     "execution_count": 4,
     "metadata": {},
     "output_type": "execute_result"
    }
   ],
   "source": [
    "s=\"\"\n",
    "len(s)"
   ]
  },
  {
   "cell_type": "code",
   "execution_count": 7,
   "id": "3978f588",
   "metadata": {},
   "outputs": [
    {
     "name": "stdout",
     "output_type": "stream",
     "text": [
      "Dimik's\n"
     ]
    }
   ],
   "source": [
    "s=\"Dimik's\"\n",
    "print(s)\n"
   ]
  },
  {
   "cell_type": "code",
   "execution_count": 14,
   "id": "de215820",
   "metadata": {},
   "outputs": [
    {
     "data": {
      "text/plain": [
       "'e'"
      ]
     },
     "execution_count": 14,
     "metadata": {},
     "output_type": "execute_result"
    }
   ],
   "source": [
    "Country_name ='Bangladesh'\n",
    "Country_name[7]\n"
   ]
  },
  {
   "cell_type": "code",
   "execution_count": 12,
   "id": "ca1afcbb",
   "metadata": {},
   "outputs": [
    {
     "data": {
      "text/plain": [
       "' '"
      ]
     },
     "execution_count": 12,
     "metadata": {},
     "output_type": "execute_result"
    }
   ],
   "source": [
    "BME='BME is a department'\n",
    "BME[6]"
   ]
  },
  {
   "cell_type": "code",
   "execution_count": 15,
   "id": "26580daa",
   "metadata": {},
   "outputs": [
    {
     "name": "stdout",
     "output_type": "stream",
     "text": [
      "B\n",
      "a\n",
      "n\n",
      "g\n",
      "l\n",
      "a\n",
      "d\n",
      "e\n",
      "s\n",
      "h\n"
     ]
    }
   ],
   "source": [
    "Country_name ='Bangladesh'\n",
    "for c in Country_name:\n",
    "    print(c)"
   ]
  },
  {
   "cell_type": "code",
   "execution_count": 16,
   "id": "66701d69",
   "metadata": {},
   "outputs": [
    {
     "name": "stdout",
     "output_type": "stream",
     "text": [
      "['a', 'b', 'c']\n"
     ]
    }
   ],
   "source": [
    "c=['a','b','c']\n",
    "print(c)"
   ]
  },
  {
   "cell_type": "code",
   "execution_count": 17,
   "id": "4cb45e76",
   "metadata": {},
   "outputs": [
    {
     "data": {
      "text/plain": [
       "3"
      ]
     },
     "execution_count": 17,
     "metadata": {},
     "output_type": "execute_result"
    }
   ],
   "source": [
    "c=['a','b','c']\n",
    "len(c)"
   ]
  },
  {
   "cell_type": "code",
   "execution_count": 18,
   "id": "251ade98",
   "metadata": {},
   "outputs": [
    {
     "name": "stdout",
     "output_type": "stream",
     "text": [
      "a\n",
      "b\n",
      "c\n"
     ]
    }
   ],
   "source": [
    "c=['a','b','c']\n",
    "for i in c:\n",
    "    print(i)"
   ]
  },
  {
   "cell_type": "code",
   "execution_count": 21,
   "id": "435b774b",
   "metadata": {},
   "outputs": [
    {
     "name": "stdout",
     "output_type": "stream",
     "text": [
      "['a', 'b', 'c']\n"
     ]
    }
   ],
   "source": [
    "c=['a','b','c']\n",
    "c[0]='a'\n",
    "print(c)"
   ]
  },
  {
   "cell_type": "code",
   "execution_count": 22,
   "id": "2a04f8bc",
   "metadata": {},
   "outputs": [
    {
     "name": "stdout",
     "output_type": "stream",
     "text": [
      "Bangladesh\n"
     ]
    }
   ],
   "source": [
    "country='Bangla'+'desh'\n",
    "print(country)"
   ]
  },
  {
   "cell_type": "code",
   "execution_count": 24,
   "id": "c0bd13b2",
   "metadata": {},
   "outputs": [
    {
     "name": "stdout",
     "output_type": "stream",
     "text": [
      "1000200\n"
     ]
    }
   ],
   "source": [
    "x='1000'+'200'\n",
    "print(x)"
   ]
  },
  {
   "cell_type": "code",
   "execution_count": 28,
   "id": "3ecec2e4",
   "metadata": {},
   "outputs": [
    {
     "data": {
      "text/plain": [
       "0"
      ]
     },
     "execution_count": 28,
     "metadata": {},
     "output_type": "execute_result"
    }
   ],
   "source": [
    "country=\"Bangladesh\"\n",
    "country.find('B')"
   ]
  },
  {
   "cell_type": "code",
   "execution_count": 29,
   "id": "b4bf366f",
   "metadata": {},
   "outputs": [
    {
     "data": {
      "text/plain": [
       "0"
      ]
     },
     "execution_count": 29,
     "metadata": {},
     "output_type": "execute_result"
    }
   ],
   "source": [
    "country=\"Bangladesh\"\n",
    "country.find('Ban')"
   ]
  },
  {
   "cell_type": "code",
   "execution_count": 30,
   "id": "13304454",
   "metadata": {},
   "outputs": [
    {
     "data": {
      "text/plain": [
       "-1"
      ]
     },
     "execution_count": 30,
     "metadata": {},
     "output_type": "execute_result"
    }
   ],
   "source": [
    "country=\"Bangladesh\"\n",
    "country.find('DESH')"
   ]
  },
  {
   "cell_type": "code",
   "execution_count": 31,
   "id": "cdd392a2",
   "metadata": {},
   "outputs": [
    {
     "data": {
      "text/plain": [
       "-1"
      ]
     },
     "execution_count": 31,
     "metadata": {},
     "output_type": "execute_result"
    }
   ],
   "source": [
    "country=\"Bangladesh\"\n",
    "country.find('b')"
   ]
  },
  {
   "cell_type": "code",
   "execution_count": 60,
   "id": "56c84151",
   "metadata": {},
   "outputs": [
    {
     "name": "stdout",
     "output_type": "stream",
     "text": [
      "Emamul Hossen\n"
     ]
    }
   ],
   "source": [
    "Name=\"Emamul miya\"\n",
    "name=Name.replace('miya' , 'Hossen')\n",
    "print(name)"
   ]
  },
  {
   "cell_type": "code",
   "execution_count": 61,
   "id": "1d306592",
   "metadata": {},
   "outputs": [
    {
     "name": "stdout",
     "output_type": "stream",
     "text": [
      "South korea\n"
     ]
    }
   ],
   "source": [
    "country=\"North korea\"\n",
    "new_country=country.replace('North', 'South')\n",
    "print(new_country)"
   ]
  },
  {
   "cell_type": "code",
   "execution_count": 62,
   "id": "d871bb44",
   "metadata": {},
   "outputs": [
    {
     "data": {
      "text/plain": [
       "'North korea'"
      ]
     },
     "execution_count": 62,
     "metadata": {},
     "output_type": "execute_result"
    }
   ],
   "source": [
    "country=\"south korea\"\n",
    "country.replace('south','North')"
   ]
  },
  {
   "cell_type": "code",
   "execution_count": 35,
   "id": "4a1afe27",
   "metadata": {},
   "outputs": [
    {
     "name": "stdout",
     "output_type": "stream",
     "text": [
      "Hello\n"
     ]
    }
   ],
   "source": [
    "text='hello'\n",
    "text=text.replace('hello','Hello')\n",
    "print(text)"
   ]
  },
  {
   "cell_type": "code",
   "execution_count": 40,
   "id": "3670df5e",
   "metadata": {},
   "outputs": [
    {
     "data": {
      "text/plain": [
       "'This is a string  '"
      ]
     },
     "execution_count": 40,
     "metadata": {},
     "output_type": "execute_result"
    }
   ],
   "source": [
    "text=\"  This is a string  \"\n",
    "text.lstrip()"
   ]
  },
  {
   "cell_type": "code",
   "execution_count": 41,
   "id": "3d3894e5",
   "metadata": {},
   "outputs": [
    {
     "data": {
      "text/plain": [
       "'  This is a string'"
      ]
     },
     "execution_count": 41,
     "metadata": {},
     "output_type": "execute_result"
    }
   ],
   "source": [
    "text=\"  This is a string  \"\n",
    "text.rstrip()"
   ]
  },
  {
   "cell_type": "code",
   "execution_count": 42,
   "id": "04f91da6",
   "metadata": {},
   "outputs": [
    {
     "data": {
      "text/plain": [
       "'This is a string'"
      ]
     },
     "execution_count": 42,
     "metadata": {},
     "output_type": "execute_result"
    }
   ],
   "source": [
    "text=\"  This is a string  \"\n",
    "text.strip()"
   ]
  },
  {
   "cell_type": "code",
   "execution_count": 50,
   "id": "01328087",
   "metadata": {},
   "outputs": [
    {
     "name": "stdout",
     "output_type": "stream",
     "text": [
      "  THIS IS A STRING  \n"
     ]
    }
   ],
   "source": [
    "text=\"  This is a string  \"\n",
    "name=text.upper()\n",
    "print(name)"
   ]
  },
  {
   "cell_type": "code",
   "execution_count": 45,
   "id": "17183d50",
   "metadata": {},
   "outputs": [
    {
     "data": {
      "text/plain": [
       "'  this is a string  '"
      ]
     },
     "execution_count": 45,
     "metadata": {},
     "output_type": "execute_result"
    }
   ],
   "source": [
    "text=\"  This is a string  \"\n",
    "text.lower()"
   ]
  },
  {
   "cell_type": "code",
   "execution_count": 46,
   "id": "3b0f0fb2",
   "metadata": {},
   "outputs": [
    {
     "data": {
      "text/plain": [
       "'  this is a string  '"
      ]
     },
     "execution_count": 46,
     "metadata": {},
     "output_type": "execute_result"
    }
   ],
   "source": [
    "text=\"  This is a string  \"\n",
    "text.capitalize()"
   ]
  },
  {
   "cell_type": "code",
   "execution_count": 48,
   "id": "e56f53a2",
   "metadata": {},
   "outputs": [
    {
     "data": {
      "text/plain": [
       "0"
      ]
     },
     "execution_count": 48,
     "metadata": {},
     "output_type": "execute_result"
    }
   ],
   "source": [
    "text=\"  This is a string  \"\n",
    "text.count(i)"
   ]
  },
  {
   "cell_type": "code",
   "execution_count": 51,
   "id": "cdd0ae24",
   "metadata": {},
   "outputs": [
    {
     "name": "stdout",
     "output_type": "stream",
     "text": [
      "['I', 'am', 'a', 'programmer']\n"
     ]
    }
   ],
   "source": [
    "str=\"I am a programmer\"\n",
    "text=str.split()\n",
    "print(text)"
   ]
  },
  {
   "cell_type": "code",
   "execution_count": 52,
   "id": "fbbe6da6",
   "metadata": {},
   "outputs": [
    {
     "name": "stdout",
     "output_type": "stream",
     "text": [
      "['I', 'am', 'a', 'programmer']\n",
      "I\n",
      "am\n",
      "a\n",
      "programmer\n"
     ]
    }
   ],
   "source": [
    "str=\"I am a programmer\"\n",
    "text=str.split()\n",
    "print(text)\n",
    "for i in text:\n",
    "    print(i)"
   ]
  },
  {
   "cell_type": "code",
   "execution_count": 2,
   "id": "94cc4940",
   "metadata": {},
   "outputs": [
    {
     "name": "stdout",
     "output_type": "stream",
     "text": [
      "1\n"
     ]
    }
   ],
   "source": [
    "BME=\" BME is a Department\"\n",
    "iu=BME.count('B')\n",
    "print(iu)"
   ]
  },
  {
   "cell_type": "code",
   "execution_count": 3,
   "id": "e6966bf5",
   "metadata": {},
   "outputs": [
    {
     "name": "stdout",
     "output_type": "stream",
     "text": [
      "['BME', 'is', 'a', 'Department']\n"
     ]
    }
   ],
   "source": [
    "BME=\" BME is a Department\"\n",
    "iu=BME.split()\n",
    "print(iu)"
   ]
  },
  {
   "cell_type": "code",
   "execution_count": 6,
   "id": "2cb57a48",
   "metadata": {},
   "outputs": [
    {
     "name": "stdout",
     "output_type": "stream",
     "text": [
      "['BME', 'is', 'a', 'Department']\n",
      "BME\n",
      "is\n",
      "a\n",
      "Department\n"
     ]
    }
   ],
   "source": [
    "BME=\" BME is a Department\"\n",
    "iu=BME.split()\n",
    "print(iu)\n",
    "for i in iu:\n",
    "    print(i)"
   ]
  },
  {
   "cell_type": "code",
   "execution_count": 59,
   "id": "f2d1c977",
   "metadata": {},
   "outputs": [
    {
     "name": "stdout",
     "output_type": "stream",
     "text": [
      "4\n"
     ]
    }
   ],
   "source": [
    "Bme=\"BIMEDICAL ENGINEERING\"\n",
    "text=Bme.count(\"E\")\n",
    "print(text)\n"
   ]
  },
  {
   "cell_type": "code",
   "execution_count": 8,
   "id": "b3027218",
   "metadata": {},
   "outputs": [
    {
     "name": "stdout",
     "output_type": "stream",
     "text": [
      "False\n"
     ]
    }
   ],
   "source": [
    "BME=\" BME is a Department\"\n",
    "iu=BME.endswith('DE')\n",
    "print(iu)"
   ]
  },
  {
   "cell_type": "code",
   "execution_count": 9,
   "id": "7d4384b9",
   "metadata": {},
   "outputs": [
    {
     "name": "stdout",
     "output_type": "stream",
     "text": [
      "False\n"
     ]
    }
   ],
   "source": [
    "BME=\" BME is a Department\"\n",
    "iu=BME.startswith('DE')\n",
    "print(iu)"
   ]
  },
  {
   "cell_type": "code",
   "execution_count": 66,
   "id": "aeb1537f",
   "metadata": {},
   "outputs": [
    {
     "name": "stdout",
     "output_type": "stream",
     "text": [
      "False\n"
     ]
    }
   ],
   "source": [
    "country=\"Bangladesh\"\n",
    "text=country.startswith('ban')\n",
    "print(text)"
   ]
  },
  {
   "cell_type": "code",
   "execution_count": 67,
   "id": "76ce7122",
   "metadata": {},
   "outputs": [
    {
     "data": {
      "text/plain": [
       "False"
      ]
     },
     "execution_count": 67,
     "metadata": {},
     "output_type": "execute_result"
    }
   ],
   "source": [
    "country=\"Bangladesh\"\n",
    "country.startswith('ban')\n"
   ]
  },
  {
   "cell_type": "code",
   "execution_count": 68,
   "id": "4e006f71",
   "metadata": {},
   "outputs": [
    {
     "data": {
      "text/plain": [
       "False"
      ]
     },
     "execution_count": 68,
     "metadata": {},
     "output_type": "execute_result"
    }
   ],
   "source": [
    "country=\"Bangladesh\"\n",
    "country.startswith('la')"
   ]
  },
  {
   "cell_type": "code",
   "execution_count": 69,
   "id": "e29121c5",
   "metadata": {},
   "outputs": [
    {
     "data": {
      "text/plain": [
       "False"
      ]
     },
     "execution_count": 69,
     "metadata": {},
     "output_type": "execute_result"
    }
   ],
   "source": [
    "country=\"Bangladesh\"\n",
    "country.endswith('la')"
   ]
  },
  {
   "cell_type": "code",
   "execution_count": 70,
   "id": "f740f2a5",
   "metadata": {},
   "outputs": [
    {
     "data": {
      "text/plain": [
       "True"
      ]
     },
     "execution_count": 70,
     "metadata": {},
     "output_type": "execute_result"
    }
   ],
   "source": [
    "country=\"Bangladesh\"\n",
    "country.endswith('desh')"
   ]
  },
  {
   "cell_type": "code",
   "execution_count": 71,
   "id": "00d38b18",
   "metadata": {},
   "outputs": [
    {
     "data": {
      "text/plain": [
       "True"
      ]
     },
     "execution_count": 71,
     "metadata": {},
     "output_type": "execute_result"
    }
   ],
   "source": [
    "country=\"Bangladesh\"\n",
    "country.endswith('sh')"
   ]
  },
  {
   "cell_type": "code",
   "execution_count": 72,
   "id": "7cb26ba5",
   "metadata": {},
   "outputs": [
    {
     "name": "stdout",
     "output_type": "stream",
     "text": [
      "a 2\n",
      "b 1\n",
      "c 1\n",
      "d 1\n",
      "e 2\n",
      "f 1\n",
      "g 1\n",
      "h 1\n",
      "i 1\n",
      "j 1\n",
      "k 1\n",
      "l 1\n",
      "m 1\n",
      "n 1\n",
      "o 4\n",
      "p 1\n",
      "q 1\n",
      "r 2\n",
      "s 1\n",
      "t 1\n",
      "u 2\n",
      "v 1\n",
      "w 1\n",
      "x 1\n",
      "y 1\n",
      "z 1\n"
     ]
    }
   ],
   "source": [
    "str=\"a quick brown fox jumps over the lazy dog\"\n",
    "for c in\"abcdefghijklmnopqrstuvwxyz\":\n",
    "    print(c,str.count(c))"
   ]
  },
  {
   "cell_type": "code",
   "execution_count": null,
   "id": "cb5e49b9",
   "metadata": {},
   "outputs": [],
   "source": [
    "http://localhost:8889/notebooks/Various%20Data%20Structure%20of%20Python.ipynb"
   ]
  }
 ],
 "metadata": {
  "kernelspec": {
   "display_name": "Python 3 (ipykernel)",
   "language": "python",
   "name": "python3"
  },
  "language_info": {
   "codemirror_mode": {
    "name": "ipython",
    "version": 3
   },
   "file_extension": ".py",
   "mimetype": "text/x-python",
   "name": "python",
   "nbconvert_exporter": "python",
   "pygments_lexer": "ipython3",
   "version": "3.9.12"
  }
 },
 "nbformat": 4,
 "nbformat_minor": 5
}
